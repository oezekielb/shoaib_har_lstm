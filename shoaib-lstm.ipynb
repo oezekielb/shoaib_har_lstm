{
 "cells": [
  {
   "cell_type": "code",
   "execution_count": 1,
   "id": "028250a0",
   "metadata": {
    "_cell_guid": "b1076dfc-b9ad-4769-8c92-a6c4dae69d19",
    "_uuid": "8f2839f25d086af736a60e9eeb907d3b93b6e0e5",
    "execution": {
     "iopub.execute_input": "2025-10-25T17:25:33.918181Z",
     "iopub.status.busy": "2025-10-25T17:25:33.917784Z",
     "iopub.status.idle": "2025-10-25T17:25:59.442341Z",
     "shell.execute_reply": "2025-10-25T17:25:59.441179Z"
    },
    "papermill": {
     "duration": 25.532194,
     "end_time": "2025-10-25T17:25:59.444014",
     "exception": false,
     "start_time": "2025-10-25T17:25:33.911820",
     "status": "completed"
    },
    "tags": []
   },
   "outputs": [
    {
     "name": "stderr",
     "output_type": "stream",
     "text": [
      "2025-10-25 17:25:41.929463: E external/local_xla/xla/stream_executor/cuda/cuda_fft.cc:477] Unable to register cuFFT factory: Attempting to register factory for plugin cuFFT when one has already been registered\n",
      "WARNING: All log messages before absl::InitializeLog() is called are written to STDERR\n",
      "E0000 00:00:1761413142.318322      13 cuda_dnn.cc:8310] Unable to register cuDNN factory: Attempting to register factory for plugin cuDNN when one has already been registered\n",
      "E0000 00:00:1761413142.417248      13 cuda_blas.cc:1418] Unable to register cuBLAS factory: Attempting to register factory for plugin cuBLAS when one has already been registered\n"
     ]
    }
   ],
   "source": [
    "import os\n",
    "\n",
    "import pandas as pd\n",
    "import numpy as np\n",
    "from tqdm.auto import tqdm\n",
    "import matplotlib.pyplot as plt\n",
    "import seaborn as sns\n",
    "\n",
    "from sklearn.model_selection import train_test_split\n",
    "from sklearn.preprocessing import LabelEncoder\n",
    "from sklearn.metrics import confusion_matrix, classification_report\n",
    "\n",
    "import tensorflow as tf\n",
    "from tensorflow.keras.utils import to_categorical\n",
    "from tensorflow.keras.models import Sequential\n",
    "from tensorflow.keras.layers import Input, LSTM, Dropout, Dense\n",
    "from tensorflow.keras.optimizers import RMSprop"
   ]
  },
  {
   "cell_type": "markdown",
   "id": "45bf36d1",
   "metadata": {
    "papermill": {
     "duration": 0.003575,
     "end_time": "2025-10-25T17:25:59.452067",
     "exception": false,
     "start_time": "2025-10-25T17:25:59.448492",
     "status": "completed"
    },
    "tags": []
   },
   "source": [
    "# Load dataset"
   ]
  },
  {
   "cell_type": "code",
   "execution_count": 2,
   "id": "e31ab2d8",
   "metadata": {
    "execution": {
     "iopub.execute_input": "2025-10-25T17:25:59.461566Z",
     "iopub.status.busy": "2025-10-25T17:25:59.460552Z",
     "iopub.status.idle": "2025-10-25T17:26:08.624627Z",
     "shell.execute_reply": "2025-10-25T17:26:08.623470Z"
    },
    "papermill": {
     "duration": 9.170367,
     "end_time": "2025-10-25T17:26:08.626272",
     "exception": false,
     "start_time": "2025-10-25T17:25:59.455905",
     "status": "completed"
    },
    "tags": []
   },
   "outputs": [
    {
     "data": {
      "application/vnd.jupyter.widget-view+json": {
       "model_id": "28b5d87c6d5444999c1f7c8257ebc700",
       "version_major": 2,
       "version_minor": 0
      },
      "text/plain": [
       "  0%|          | 0/50 [00:00<?, ?it/s]"
      ]
     },
     "metadata": {},
     "output_type": "display_data"
    },
    {
     "data": {
      "text/html": [
       "<div>\n",
       "<style scoped>\n",
       "    .dataframe tbody tr th:only-of-type {\n",
       "        vertical-align: middle;\n",
       "    }\n",
       "\n",
       "    .dataframe tbody tr th {\n",
       "        vertical-align: top;\n",
       "    }\n",
       "\n",
       "    .dataframe thead th {\n",
       "        text-align: right;\n",
       "    }\n",
       "</style>\n",
       "<table border=\"1\" class=\"dataframe\">\n",
       "  <thead>\n",
       "    <tr style=\"text-align: right;\">\n",
       "      <th></th>\n",
       "      <th>Ax</th>\n",
       "      <th>Ay</th>\n",
       "      <th>Az</th>\n",
       "      <th>Gx</th>\n",
       "      <th>Gy</th>\n",
       "      <th>Gz</th>\n",
       "      <th>Mx</th>\n",
       "      <th>My</th>\n",
       "      <th>Mz</th>\n",
       "      <th>Activity</th>\n",
       "    </tr>\n",
       "  </thead>\n",
       "  <tbody>\n",
       "    <tr>\n",
       "      <th>0</th>\n",
       "      <td>9.3436</td>\n",
       "      <td>-3.2416</td>\n",
       "      <td>1.089600</td>\n",
       "      <td>0.830170</td>\n",
       "      <td>0.15302</td>\n",
       "      <td>-0.032681</td>\n",
       "      <td>-28.98</td>\n",
       "      <td>11.94</td>\n",
       "      <td>20.46</td>\n",
       "      <td>1</td>\n",
       "    </tr>\n",
       "    <tr>\n",
       "      <th>1</th>\n",
       "      <td>11.3460</td>\n",
       "      <td>-3.5413</td>\n",
       "      <td>0.027241</td>\n",
       "      <td>0.677760</td>\n",
       "      <td>0.16646</td>\n",
       "      <td>-0.094990</td>\n",
       "      <td>-28.92</td>\n",
       "      <td>12.66</td>\n",
       "      <td>20.34</td>\n",
       "      <td>1</td>\n",
       "    </tr>\n",
       "    <tr>\n",
       "      <th>2</th>\n",
       "      <td>14.2200</td>\n",
       "      <td>-4.7126</td>\n",
       "      <td>0.354130</td>\n",
       "      <td>0.265420</td>\n",
       "      <td>0.32590</td>\n",
       "      <td>-0.045509</td>\n",
       "      <td>-29.04</td>\n",
       "      <td>12.90</td>\n",
       "      <td>20.16</td>\n",
       "      <td>1</td>\n",
       "    </tr>\n",
       "    <tr>\n",
       "      <th>3</th>\n",
       "      <td>14.4510</td>\n",
       "      <td>-4.6582</td>\n",
       "      <td>0.354130</td>\n",
       "      <td>-0.009163</td>\n",
       "      <td>0.22388</td>\n",
       "      <td>-0.055894</td>\n",
       "      <td>-28.98</td>\n",
       "      <td>13.20</td>\n",
       "      <td>20.04</td>\n",
       "      <td>1</td>\n",
       "    </tr>\n",
       "    <tr>\n",
       "      <th>4</th>\n",
       "      <td>12.2580</td>\n",
       "      <td>-2.9284</td>\n",
       "      <td>-2.942000</td>\n",
       "      <td>-0.011606</td>\n",
       "      <td>-0.47342</td>\n",
       "      <td>-0.088881</td>\n",
       "      <td>-28.98</td>\n",
       "      <td>13.68</td>\n",
       "      <td>19.56</td>\n",
       "      <td>1</td>\n",
       "    </tr>\n",
       "    <tr>\n",
       "      <th>...</th>\n",
       "      <td>...</td>\n",
       "      <td>...</td>\n",
       "      <td>...</td>\n",
       "      <td>...</td>\n",
       "      <td>...</td>\n",
       "      <td>...</td>\n",
       "      <td>...</td>\n",
       "      <td>...</td>\n",
       "      <td>...</td>\n",
       "      <td>...</td>\n",
       "    </tr>\n",
       "    <tr>\n",
       "      <th>3149995</th>\n",
       "      <td>3.7728</td>\n",
       "      <td>-4.6445</td>\n",
       "      <td>-0.994290</td>\n",
       "      <td>0.378430</td>\n",
       "      <td>-0.17837</td>\n",
       "      <td>-0.659430</td>\n",
       "      <td>-17.28</td>\n",
       "      <td>24.84</td>\n",
       "      <td>-8.64</td>\n",
       "      <td>7</td>\n",
       "    </tr>\n",
       "    <tr>\n",
       "      <th>3149996</th>\n",
       "      <td>3.8409</td>\n",
       "      <td>-4.7671</td>\n",
       "      <td>-1.103200</td>\n",
       "      <td>0.436460</td>\n",
       "      <td>-0.42302</td>\n",
       "      <td>-0.562300</td>\n",
       "      <td>-17.40</td>\n",
       "      <td>24.72</td>\n",
       "      <td>-8.94</td>\n",
       "      <td>7</td>\n",
       "    </tr>\n",
       "    <tr>\n",
       "      <th>3149997</th>\n",
       "      <td>4.0044</td>\n",
       "      <td>-5.4073</td>\n",
       "      <td>-1.280300</td>\n",
       "      <td>0.453870</td>\n",
       "      <td>-0.64874</td>\n",
       "      <td>-0.423020</td>\n",
       "      <td>-17.70</td>\n",
       "      <td>24.54</td>\n",
       "      <td>-9.00</td>\n",
       "      <td>7</td>\n",
       "    </tr>\n",
       "    <tr>\n",
       "      <th>3149998</th>\n",
       "      <td>4.0589</td>\n",
       "      <td>-5.7478</td>\n",
       "      <td>-1.362000</td>\n",
       "      <td>0.431880</td>\n",
       "      <td>-0.81948</td>\n",
       "      <td>-0.292600</td>\n",
       "      <td>-17.94</td>\n",
       "      <td>24.48</td>\n",
       "      <td>-9.18</td>\n",
       "      <td>7</td>\n",
       "    </tr>\n",
       "    <tr>\n",
       "      <th>3149999</th>\n",
       "      <td>3.9771</td>\n",
       "      <td>-6.4288</td>\n",
       "      <td>-1.457400</td>\n",
       "      <td>0.321010</td>\n",
       "      <td>-0.99693</td>\n",
       "      <td>-0.199140</td>\n",
       "      <td>-18.66</td>\n",
       "      <td>24.06</td>\n",
       "      <td>-9.30</td>\n",
       "      <td>7</td>\n",
       "    </tr>\n",
       "  </tbody>\n",
       "</table>\n",
       "<p>3150000 rows × 10 columns</p>\n",
       "</div>"
      ],
      "text/plain": [
       "              Ax      Ay        Az        Gx       Gy        Gz     Mx     My  \\\n",
       "0         9.3436 -3.2416  1.089600  0.830170  0.15302 -0.032681 -28.98  11.94   \n",
       "1        11.3460 -3.5413  0.027241  0.677760  0.16646 -0.094990 -28.92  12.66   \n",
       "2        14.2200 -4.7126  0.354130  0.265420  0.32590 -0.045509 -29.04  12.90   \n",
       "3        14.4510 -4.6582  0.354130 -0.009163  0.22388 -0.055894 -28.98  13.20   \n",
       "4        12.2580 -2.9284 -2.942000 -0.011606 -0.47342 -0.088881 -28.98  13.68   \n",
       "...          ...     ...       ...       ...      ...       ...    ...    ...   \n",
       "3149995   3.7728 -4.6445 -0.994290  0.378430 -0.17837 -0.659430 -17.28  24.84   \n",
       "3149996   3.8409 -4.7671 -1.103200  0.436460 -0.42302 -0.562300 -17.40  24.72   \n",
       "3149997   4.0044 -5.4073 -1.280300  0.453870 -0.64874 -0.423020 -17.70  24.54   \n",
       "3149998   4.0589 -5.7478 -1.362000  0.431880 -0.81948 -0.292600 -17.94  24.48   \n",
       "3149999   3.9771 -6.4288 -1.457400  0.321010 -0.99693 -0.199140 -18.66  24.06   \n",
       "\n",
       "            Mz  Activity  \n",
       "0        20.46         1  \n",
       "1        20.34         1  \n",
       "2        20.16         1  \n",
       "3        20.04         1  \n",
       "4        19.56         1  \n",
       "...        ...       ...  \n",
       "3149995  -8.64         7  \n",
       "3149996  -8.94         7  \n",
       "3149997  -9.00         7  \n",
       "3149998  -9.18         7  \n",
       "3149999  -9.30         7  \n",
       "\n",
       "[3150000 rows x 10 columns]"
      ]
     },
     "execution_count": 2,
     "metadata": {},
     "output_type": "execute_result"
    }
   ],
   "source": [
    "progress = tqdm(total=50)\n",
    "df = pd.DataFrame()\n",
    "for position in [\"Belt\", \"Left-Pocket\", \"Right-Pocket\", \"Upper-Arm\", \"Wrist\"]:\n",
    "    for i in range(10, 0, -1):\n",
    "        # print(f\"{position} Participant {i}\")\n",
    "        url = f\"/kaggle/input/utwente-shoaib/{position}/Participant_{i}.csv/Participant_{i}.csv\"\n",
    "        p_df = pd.read_csv(url)\n",
    "        \n",
    "        df = pd.concat([df, p_df])\n",
    "        progress.update(1)\n",
    "df = df.reset_index(drop=True)\n",
    "progress.close()\n",
    "\n",
    "feature_cols = ['Ax','Ay','Az','Gx','Gy','Gz']\n",
    "X_raw = df[feature_cols].values\n",
    "y_raw = df['Activity'].values.astype(int)\n",
    "\n",
    "df"
   ]
  },
  {
   "cell_type": "markdown",
   "id": "f18edafc",
   "metadata": {
    "papermill": {
     "duration": 0.003784,
     "end_time": "2025-10-25T17:26:08.634632",
     "exception": false,
     "start_time": "2025-10-25T17:26:08.630848",
     "status": "completed"
    },
    "tags": []
   },
   "source": [
    "# Encode labels"
   ]
  },
  {
   "cell_type": "code",
   "execution_count": 3,
   "id": "e5200f7a",
   "metadata": {
    "execution": {
     "iopub.execute_input": "2025-10-25T17:26:08.643794Z",
     "iopub.status.busy": "2025-10-25T17:26:08.643449Z",
     "iopub.status.idle": "2025-10-25T17:26:08.994887Z",
     "shell.execute_reply": "2025-10-25T17:26:08.993982Z"
    },
    "papermill": {
     "duration": 0.357931,
     "end_time": "2025-10-25T17:26:08.996515",
     "exception": false,
     "start_time": "2025-10-25T17:26:08.638584",
     "status": "completed"
    },
    "tags": []
   },
   "outputs": [],
   "source": [
    "encoder = LabelEncoder()\n",
    "y_encoded = encoder.fit_transform(y_raw)\n",
    "y_onehot = to_categorical(y_encoded)"
   ]
  },
  {
   "cell_type": "markdown",
   "id": "f8b13ac2",
   "metadata": {
    "papermill": {
     "duration": 0.003985,
     "end_time": "2025-10-25T17:26:09.004780",
     "exception": false,
     "start_time": "2025-10-25T17:26:09.000795",
     "status": "completed"
    },
    "tags": []
   },
   "source": [
    "# Sliding windows"
   ]
  },
  {
   "cell_type": "code",
   "execution_count": 4,
   "id": "a7aaffdd",
   "metadata": {
    "execution": {
     "iopub.execute_input": "2025-10-25T17:26:09.014207Z",
     "iopub.status.busy": "2025-10-25T17:26:09.013891Z",
     "iopub.status.idle": "2025-10-25T17:26:09.347112Z",
     "shell.execute_reply": "2025-10-25T17:26:09.345995Z"
    },
    "papermill": {
     "duration": 0.339954,
     "end_time": "2025-10-25T17:26:09.348817",
     "exception": false,
     "start_time": "2025-10-25T17:26:09.008863",
     "status": "completed"
    },
    "tags": []
   },
   "outputs": [],
   "source": [
    "def create_windows(X, y, window_size=128, step_size=64):\n",
    "    X_windows = []\n",
    "    y_windows = []\n",
    "    for start in range(0, len(X) - window_size + 1, step_size):\n",
    "        end = start + window_size\n",
    "        X_windows.append(X[start:end])\n",
    "        # Majority vote label in window\n",
    "        y_windows.append(np.bincount(y_encoded[start:end]).argmax())\n",
    "    return np.array(X_windows), np.array(y_windows)\n",
    "\n",
    "window_size = 128\n",
    "step_size = 64\n",
    "X_win, y_win = create_windows(X_raw, y_onehot, window_size, step_size)\n",
    "y_win_onehot = to_categorical(y_win)"
   ]
  },
  {
   "cell_type": "markdown",
   "id": "f0d0ac65",
   "metadata": {
    "papermill": {
     "duration": 0.004002,
     "end_time": "2025-10-25T17:26:09.357188",
     "exception": false,
     "start_time": "2025-10-25T17:26:09.353186",
     "status": "completed"
    },
    "tags": []
   },
   "source": [
    "# Train/test/val split"
   ]
  },
  {
   "cell_type": "code",
   "execution_count": 5,
   "id": "16648b3a",
   "metadata": {
    "execution": {
     "iopub.execute_input": "2025-10-25T17:26:09.368912Z",
     "iopub.status.busy": "2025-10-25T17:26:09.368009Z",
     "iopub.status.idle": "2025-10-25T17:26:09.711733Z",
     "shell.execute_reply": "2025-10-25T17:26:09.710718Z"
    },
    "papermill": {
     "duration": 0.352268,
     "end_time": "2025-10-25T17:26:09.713574",
     "exception": false,
     "start_time": "2025-10-25T17:26:09.361306",
     "status": "completed"
    },
    "tags": []
   },
   "outputs": [],
   "source": [
    "X_train, X_val, y_train, y_val = train_test_split(\n",
    "    X_win, y_win_onehot, test_size=0.2, random_state=42, stratify=y_win\n",
    ")\n",
    "\n",
    "X_train, X_test, y_train, y_test = train_test_split(\n",
    "    X_train, y_train, test_size=0.25, random_state=42, stratify=np.argmax(y_train, axis=1)\n",
    ")"
   ]
  },
  {
   "cell_type": "markdown",
   "id": "7958aa5d",
   "metadata": {
    "papermill": {
     "duration": 0.004036,
     "end_time": "2025-10-25T17:26:09.722007",
     "exception": false,
     "start_time": "2025-10-25T17:26:09.717971",
     "status": "completed"
    },
    "tags": []
   },
   "source": [
    "# Prepare tf.data for GPU"
   ]
  },
  {
   "cell_type": "code",
   "execution_count": 6,
   "id": "a7e8944d",
   "metadata": {
    "execution": {
     "iopub.execute_input": "2025-10-25T17:26:09.731430Z",
     "iopub.status.busy": "2025-10-25T17:26:09.731093Z",
     "iopub.status.idle": "2025-10-25T17:26:10.247363Z",
     "shell.execute_reply": "2025-10-25T17:26:10.246430Z"
    },
    "papermill": {
     "duration": 0.522854,
     "end_time": "2025-10-25T17:26:10.248908",
     "exception": false,
     "start_time": "2025-10-25T17:26:09.726054",
     "status": "completed"
    },
    "tags": []
   },
   "outputs": [
    {
     "name": "stderr",
     "output_type": "stream",
     "text": [
      "2025-10-25 17:26:09.803771: E external/local_xla/xla/stream_executor/cuda/cuda_driver.cc:152] failed call to cuInit: INTERNAL: CUDA error: Failed call to cuInit: UNKNOWN ERROR (303)\n"
     ]
    }
   ],
   "source": [
    "batch_size = 512\n",
    "\n",
    "train_dataset = tf.data.Dataset.from_tensor_slices((X_train, y_train))\n",
    "train_dataset = train_dataset.shuffle(2048).batch(batch_size).prefetch(tf.data.AUTOTUNE)\n",
    "\n",
    "val_dataset = tf.data.Dataset.from_tensor_slices((X_val, y_val))\n",
    "val_dataset = val_dataset.batch(batch_size).prefetch(tf.data.AUTOTUNE)\n",
    "\n",
    "test_dataset = tf.data.Dataset.from_tensor_slices((X_test, y_test))\n",
    "test_dataset = test_dataset.batch(batch_size).prefetch(tf.data.AUTOTUNE)"
   ]
  },
  {
   "cell_type": "markdown",
   "id": "9416f7f2",
   "metadata": {
    "papermill": {
     "duration": 0.00396,
     "end_time": "2025-10-25T17:26:10.257135",
     "exception": false,
     "start_time": "2025-10-25T17:26:10.253175",
     "status": "completed"
    },
    "tags": []
   },
   "source": [
    "# Build LSTM model"
   ]
  },
  {
   "cell_type": "code",
   "execution_count": 7,
   "id": "f43c51e6",
   "metadata": {
    "execution": {
     "iopub.execute_input": "2025-10-25T17:26:10.266463Z",
     "iopub.status.busy": "2025-10-25T17:26:10.266172Z",
     "iopub.status.idle": "2025-10-25T17:26:10.390960Z",
     "shell.execute_reply": "2025-10-25T17:26:10.390013Z"
    },
    "papermill": {
     "duration": 0.131198,
     "end_time": "2025-10-25T17:26:10.392326",
     "exception": false,
     "start_time": "2025-10-25T17:26:10.261128",
     "status": "completed"
    },
    "tags": []
   },
   "outputs": [
    {
     "data": {
      "text/html": [
       "<pre style=\"white-space:pre;overflow-x:auto;line-height:normal;font-family:Menlo,'DejaVu Sans Mono',consolas,'Courier New',monospace\"><span style=\"font-weight: bold\">Model: \"sequential\"</span>\n",
       "</pre>\n"
      ],
      "text/plain": [
       "\u001b[1mModel: \"sequential\"\u001b[0m\n"
      ]
     },
     "metadata": {},
     "output_type": "display_data"
    },
    {
     "data": {
      "text/html": [
       "<pre style=\"white-space:pre;overflow-x:auto;line-height:normal;font-family:Menlo,'DejaVu Sans Mono',consolas,'Courier New',monospace\">┏━━━━━━━━━━━━━━━━━━━━━━━━━━━━━━━━━┳━━━━━━━━━━━━━━━━━━━━━━━━┳━━━━━━━━━━━━━━━┓\n",
       "┃<span style=\"font-weight: bold\"> Layer (type)                    </span>┃<span style=\"font-weight: bold\"> Output Shape           </span>┃<span style=\"font-weight: bold\">       Param # </span>┃\n",
       "┡━━━━━━━━━━━━━━━━━━━━━━━━━━━━━━━━━╇━━━━━━━━━━━━━━━━━━━━━━━━╇━━━━━━━━━━━━━━━┩\n",
       "│ lstm (<span style=\"color: #0087ff; text-decoration-color: #0087ff\">LSTM</span>)                     │ (<span style=\"color: #00d7ff; text-decoration-color: #00d7ff\">None</span>, <span style=\"color: #00af00; text-decoration-color: #00af00\">64</span>)             │        <span style=\"color: #00af00; text-decoration-color: #00af00\">18,176</span> │\n",
       "├─────────────────────────────────┼────────────────────────┼───────────────┤\n",
       "│ dropout (<span style=\"color: #0087ff; text-decoration-color: #0087ff\">Dropout</span>)               │ (<span style=\"color: #00d7ff; text-decoration-color: #00d7ff\">None</span>, <span style=\"color: #00af00; text-decoration-color: #00af00\">64</span>)             │             <span style=\"color: #00af00; text-decoration-color: #00af00\">0</span> │\n",
       "├─────────────────────────────────┼────────────────────────┼───────────────┤\n",
       "│ dense (<span style=\"color: #0087ff; text-decoration-color: #0087ff\">Dense</span>)                   │ (<span style=\"color: #00d7ff; text-decoration-color: #00d7ff\">None</span>, <span style=\"color: #00af00; text-decoration-color: #00af00\">32</span>)             │         <span style=\"color: #00af00; text-decoration-color: #00af00\">2,080</span> │\n",
       "├─────────────────────────────────┼────────────────────────┼───────────────┤\n",
       "│ dense_1 (<span style=\"color: #0087ff; text-decoration-color: #0087ff\">Dense</span>)                 │ (<span style=\"color: #00d7ff; text-decoration-color: #00d7ff\">None</span>, <span style=\"color: #00af00; text-decoration-color: #00af00\">7</span>)              │           <span style=\"color: #00af00; text-decoration-color: #00af00\">231</span> │\n",
       "└─────────────────────────────────┴────────────────────────┴───────────────┘\n",
       "</pre>\n"
      ],
      "text/plain": [
       "┏━━━━━━━━━━━━━━━━━━━━━━━━━━━━━━━━━┳━━━━━━━━━━━━━━━━━━━━━━━━┳━━━━━━━━━━━━━━━┓\n",
       "┃\u001b[1m \u001b[0m\u001b[1mLayer (type)                   \u001b[0m\u001b[1m \u001b[0m┃\u001b[1m \u001b[0m\u001b[1mOutput Shape          \u001b[0m\u001b[1m \u001b[0m┃\u001b[1m \u001b[0m\u001b[1m      Param #\u001b[0m\u001b[1m \u001b[0m┃\n",
       "┡━━━━━━━━━━━━━━━━━━━━━━━━━━━━━━━━━╇━━━━━━━━━━━━━━━━━━━━━━━━╇━━━━━━━━━━━━━━━┩\n",
       "│ lstm (\u001b[38;5;33mLSTM\u001b[0m)                     │ (\u001b[38;5;45mNone\u001b[0m, \u001b[38;5;34m64\u001b[0m)             │        \u001b[38;5;34m18,176\u001b[0m │\n",
       "├─────────────────────────────────┼────────────────────────┼───────────────┤\n",
       "│ dropout (\u001b[38;5;33mDropout\u001b[0m)               │ (\u001b[38;5;45mNone\u001b[0m, \u001b[38;5;34m64\u001b[0m)             │             \u001b[38;5;34m0\u001b[0m │\n",
       "├─────────────────────────────────┼────────────────────────┼───────────────┤\n",
       "│ dense (\u001b[38;5;33mDense\u001b[0m)                   │ (\u001b[38;5;45mNone\u001b[0m, \u001b[38;5;34m32\u001b[0m)             │         \u001b[38;5;34m2,080\u001b[0m │\n",
       "├─────────────────────────────────┼────────────────────────┼───────────────┤\n",
       "│ dense_1 (\u001b[38;5;33mDense\u001b[0m)                 │ (\u001b[38;5;45mNone\u001b[0m, \u001b[38;5;34m7\u001b[0m)              │           \u001b[38;5;34m231\u001b[0m │\n",
       "└─────────────────────────────────┴────────────────────────┴───────────────┘\n"
      ]
     },
     "metadata": {},
     "output_type": "display_data"
    },
    {
     "data": {
      "text/html": [
       "<pre style=\"white-space:pre;overflow-x:auto;line-height:normal;font-family:Menlo,'DejaVu Sans Mono',consolas,'Courier New',monospace\"><span style=\"font-weight: bold\"> Total params: </span><span style=\"color: #00af00; text-decoration-color: #00af00\">20,487</span> (80.03 KB)\n",
       "</pre>\n"
      ],
      "text/plain": [
       "\u001b[1m Total params: \u001b[0m\u001b[38;5;34m20,487\u001b[0m (80.03 KB)\n"
      ]
     },
     "metadata": {},
     "output_type": "display_data"
    },
    {
     "data": {
      "text/html": [
       "<pre style=\"white-space:pre;overflow-x:auto;line-height:normal;font-family:Menlo,'DejaVu Sans Mono',consolas,'Courier New',monospace\"><span style=\"font-weight: bold\"> Trainable params: </span><span style=\"color: #00af00; text-decoration-color: #00af00\">20,487</span> (80.03 KB)\n",
       "</pre>\n"
      ],
      "text/plain": [
       "\u001b[1m Trainable params: \u001b[0m\u001b[38;5;34m20,487\u001b[0m (80.03 KB)\n"
      ]
     },
     "metadata": {},
     "output_type": "display_data"
    },
    {
     "data": {
      "text/html": [
       "<pre style=\"white-space:pre;overflow-x:auto;line-height:normal;font-family:Menlo,'DejaVu Sans Mono',consolas,'Courier New',monospace\"><span style=\"font-weight: bold\"> Non-trainable params: </span><span style=\"color: #00af00; text-decoration-color: #00af00\">0</span> (0.00 B)\n",
       "</pre>\n"
      ],
      "text/plain": [
       "\u001b[1m Non-trainable params: \u001b[0m\u001b[38;5;34m0\u001b[0m (0.00 B)\n"
      ]
     },
     "metadata": {},
     "output_type": "display_data"
    }
   ],
   "source": [
    "\n",
    "from tensorflow import keras\n",
    "window_size = 128\n",
    "num_features = 6\n",
    "num_classes = 7\n",
    "\n",
    "model = Sequential([\n",
    "    Input(shape=(128, 6)),\n",
    "    # Use a standard Keras LSTM layer\n",
    "    LSTM(units=64),\n",
    "    # tf.keras.layers.Bidirectional(tf.keras.layers.LSTM(32, return_sequences=False)),\n",
    "    Dropout(0.5), # Regularization\n",
    "    # No Flatten needed as LSTM returns a vector (the output of the last cell)\n",
    "    Dense(32, activation='relu'),\n",
    "    Dense(7, activation='softmax')\n",
    "])\n",
    "\n",
    "optimizer = RMSprop(learning_rate=0.001)\n",
    "model.compile(optimizer=optimizer, loss='categorical_crossentropy', metrics=['accuracy'])\n",
    "model.summary()"
   ]
  },
  {
   "cell_type": "markdown",
   "id": "eeb08681",
   "metadata": {
    "papermill": {
     "duration": 0.00433,
     "end_time": "2025-10-25T17:26:10.401382",
     "exception": false,
     "start_time": "2025-10-25T17:26:10.397052",
     "status": "completed"
    },
    "tags": []
   },
   "source": [
    "# Train model"
   ]
  },
  {
   "cell_type": "code",
   "execution_count": 8,
   "id": "f084ac88",
   "metadata": {
    "execution": {
     "iopub.execute_input": "2025-10-25T17:26:10.411970Z",
     "iopub.status.busy": "2025-10-25T17:26:10.411320Z",
     "iopub.status.idle": "2025-10-25T17:41:22.712738Z",
     "shell.execute_reply": "2025-10-25T17:41:22.711685Z"
    },
    "papermill": {
     "duration": 912.414846,
     "end_time": "2025-10-25T17:41:22.820744",
     "exception": false,
     "start_time": "2025-10-25T17:26:10.405898",
     "status": "completed"
    },
    "tags": []
   },
   "outputs": [
    {
     "name": "stdout",
     "output_type": "stream",
     "text": [
      "Epoch 1/50\n",
      "\u001b[1m58/58\u001b[0m \u001b[32m━━━━━━━━━━━━━━━━━━━━\u001b[0m\u001b[37m\u001b[0m \u001b[1m22s\u001b[0m 326ms/step - accuracy: 0.2831 - loss: 1.7709 - val_accuracy: 0.5988 - val_loss: 1.0946\n",
      "Epoch 2/50\n",
      "\u001b[1m58/58\u001b[0m \u001b[32m━━━━━━━━━━━━━━━━━━━━\u001b[0m\u001b[37m\u001b[0m \u001b[1m18s\u001b[0m 308ms/step - accuracy: 0.5802 - loss: 1.0863 - val_accuracy: 0.7460 - val_loss: 0.7348\n",
      "Epoch 3/50\n",
      "\u001b[1m58/58\u001b[0m \u001b[32m━━━━━━━━━━━━━━━━━━━━\u001b[0m\u001b[37m\u001b[0m \u001b[1m18s\u001b[0m 310ms/step - accuracy: 0.6789 - loss: 0.8096 - val_accuracy: 0.8072 - val_loss: 0.5348\n",
      "Epoch 4/50\n",
      "\u001b[1m58/58\u001b[0m \u001b[32m━━━━━━━━━━━━━━━━━━━━\u001b[0m\u001b[37m\u001b[0m \u001b[1m18s\u001b[0m 313ms/step - accuracy: 0.7551 - loss: 0.6434 - val_accuracy: 0.8023 - val_loss: 0.5370\n",
      "Epoch 5/50\n",
      "\u001b[1m58/58\u001b[0m \u001b[32m━━━━━━━━━━━━━━━━━━━━\u001b[0m\u001b[37m\u001b[0m \u001b[1m18s\u001b[0m 312ms/step - accuracy: 0.7803 - loss: 0.5667 - val_accuracy: 0.8526 - val_loss: 0.4126\n",
      "Epoch 6/50\n",
      "\u001b[1m58/58\u001b[0m \u001b[32m━━━━━━━━━━━━━━━━━━━━\u001b[0m\u001b[37m\u001b[0m \u001b[1m18s\u001b[0m 306ms/step - accuracy: 0.8170 - loss: 0.4888 - val_accuracy: 0.8380 - val_loss: 0.4544\n",
      "Epoch 7/50\n",
      "\u001b[1m58/58\u001b[0m \u001b[32m━━━━━━━━━━━━━━━━━━━━\u001b[0m\u001b[37m\u001b[0m \u001b[1m18s\u001b[0m 305ms/step - accuracy: 0.8406 - loss: 0.4511 - val_accuracy: 0.8649 - val_loss: 0.3784\n",
      "Epoch 8/50\n",
      "\u001b[1m58/58\u001b[0m \u001b[32m━━━━━━━━━━━━━━━━━━━━\u001b[0m\u001b[37m\u001b[0m \u001b[1m18s\u001b[0m 304ms/step - accuracy: 0.8576 - loss: 0.4120 - val_accuracy: 0.8781 - val_loss: 0.3412\n",
      "Epoch 9/50\n",
      "\u001b[1m58/58\u001b[0m \u001b[32m━━━━━━━━━━━━━━━━━━━━\u001b[0m\u001b[37m\u001b[0m \u001b[1m18s\u001b[0m 303ms/step - accuracy: 0.8688 - loss: 0.3830 - val_accuracy: 0.9027 - val_loss: 0.2909\n",
      "Epoch 10/50\n",
      "\u001b[1m58/58\u001b[0m \u001b[32m━━━━━━━━━━━━━━━━━━━━\u001b[0m\u001b[37m\u001b[0m \u001b[1m18s\u001b[0m 307ms/step - accuracy: 0.8756 - loss: 0.3644 - val_accuracy: 0.9037 - val_loss: 0.2771\n",
      "Epoch 11/50\n",
      "\u001b[1m58/58\u001b[0m \u001b[32m━━━━━━━━━━━━━━━━━━━━\u001b[0m\u001b[37m\u001b[0m \u001b[1m17s\u001b[0m 299ms/step - accuracy: 0.8918 - loss: 0.3141 - val_accuracy: 0.9110 - val_loss: 0.2606\n",
      "Epoch 12/50\n",
      "\u001b[1m58/58\u001b[0m \u001b[32m━━━━━━━━━━━━━━━━━━━━\u001b[0m\u001b[37m\u001b[0m \u001b[1m18s\u001b[0m 304ms/step - accuracy: 0.9007 - loss: 0.2973 - val_accuracy: 0.9317 - val_loss: 0.2132\n",
      "Epoch 13/50\n",
      "\u001b[1m58/58\u001b[0m \u001b[32m━━━━━━━━━━━━━━━━━━━━\u001b[0m\u001b[37m\u001b[0m \u001b[1m18s\u001b[0m 312ms/step - accuracy: 0.9108 - loss: 0.2750 - val_accuracy: 0.9198 - val_loss: 0.2301\n",
      "Epoch 14/50\n",
      "\u001b[1m58/58\u001b[0m \u001b[32m━━━━━━━━━━━━━━━━━━━━\u001b[0m\u001b[37m\u001b[0m \u001b[1m18s\u001b[0m 304ms/step - accuracy: 0.9103 - loss: 0.2779 - val_accuracy: 0.9306 - val_loss: 0.2094\n",
      "Epoch 15/50\n",
      "\u001b[1m58/58\u001b[0m \u001b[32m━━━━━━━━━━━━━━━━━━━━\u001b[0m\u001b[37m\u001b[0m \u001b[1m20s\u001b[0m 301ms/step - accuracy: 0.9231 - loss: 0.2404 - val_accuracy: 0.9269 - val_loss: 0.2266\n",
      "Epoch 16/50\n",
      "\u001b[1m58/58\u001b[0m \u001b[32m━━━━━━━━━━━━━━━━━━━━\u001b[0m\u001b[37m\u001b[0m \u001b[1m18s\u001b[0m 307ms/step - accuracy: 0.9232 - loss: 0.2419 - val_accuracy: 0.9447 - val_loss: 0.1804\n",
      "Epoch 17/50\n",
      "\u001b[1m58/58\u001b[0m \u001b[32m━━━━━━━━━━━━━━━━━━━━\u001b[0m\u001b[37m\u001b[0m \u001b[1m18s\u001b[0m 314ms/step - accuracy: 0.9336 - loss: 0.2158 - val_accuracy: 0.9488 - val_loss: 0.1691\n",
      "Epoch 18/50\n",
      "\u001b[1m58/58\u001b[0m \u001b[32m━━━━━━━━━━━━━━━━━━━━\u001b[0m\u001b[37m\u001b[0m \u001b[1m18s\u001b[0m 312ms/step - accuracy: 0.9377 - loss: 0.2096 - val_accuracy: 0.9452 - val_loss: 0.1764\n",
      "Epoch 19/50\n",
      "\u001b[1m58/58\u001b[0m \u001b[32m━━━━━━━━━━━━━━━━━━━━\u001b[0m\u001b[37m\u001b[0m \u001b[1m18s\u001b[0m 314ms/step - accuracy: 0.9396 - loss: 0.1985 - val_accuracy: 0.9350 - val_loss: 0.1968\n",
      "Epoch 20/50\n",
      "\u001b[1m58/58\u001b[0m \u001b[32m━━━━━━━━━━━━━━━━━━━━\u001b[0m\u001b[37m\u001b[0m \u001b[1m18s\u001b[0m 303ms/step - accuracy: 0.9400 - loss: 0.1944 - val_accuracy: 0.9410 - val_loss: 0.1916\n",
      "Epoch 21/50\n",
      "\u001b[1m58/58\u001b[0m \u001b[32m━━━━━━━━━━━━━━━━━━━━\u001b[0m\u001b[37m\u001b[0m \u001b[1m18s\u001b[0m 305ms/step - accuracy: 0.9462 - loss: 0.1807 - val_accuracy: 0.9560 - val_loss: 0.1535\n",
      "Epoch 22/50\n",
      "\u001b[1m58/58\u001b[0m \u001b[32m━━━━━━━━━━━━━━━━━━━━\u001b[0m\u001b[37m\u001b[0m \u001b[1m18s\u001b[0m 304ms/step - accuracy: 0.9433 - loss: 0.1823 - val_accuracy: 0.9548 - val_loss: 0.1553\n",
      "Epoch 23/50\n",
      "\u001b[1m58/58\u001b[0m \u001b[32m━━━━━━━━━━━━━━━━━━━━\u001b[0m\u001b[37m\u001b[0m \u001b[1m18s\u001b[0m 304ms/step - accuracy: 0.9484 - loss: 0.1760 - val_accuracy: 0.9473 - val_loss: 0.1722\n",
      "Epoch 24/50\n",
      "\u001b[1m58/58\u001b[0m \u001b[32m━━━━━━━━━━━━━━━━━━━━\u001b[0m\u001b[37m\u001b[0m \u001b[1m18s\u001b[0m 310ms/step - accuracy: 0.9497 - loss: 0.1772 - val_accuracy: 0.9559 - val_loss: 0.1469\n",
      "Epoch 25/50\n",
      "\u001b[1m58/58\u001b[0m \u001b[32m━━━━━━━━━━━━━━━━━━━━\u001b[0m\u001b[37m\u001b[0m \u001b[1m19s\u001b[0m 321ms/step - accuracy: 0.9472 - loss: 0.1719 - val_accuracy: 0.9499 - val_loss: 0.1739\n",
      "Epoch 26/50\n",
      "\u001b[1m58/58\u001b[0m \u001b[32m━━━━━━━━━━━━━━━━━━━━\u001b[0m\u001b[37m\u001b[0m \u001b[1m19s\u001b[0m 322ms/step - accuracy: 0.9473 - loss: 0.1702 - val_accuracy: 0.9527 - val_loss: 0.1599\n",
      "Epoch 27/50\n",
      "\u001b[1m58/58\u001b[0m \u001b[32m━━━━━━━━━━━━━━━━━━━━\u001b[0m\u001b[37m\u001b[0m \u001b[1m19s\u001b[0m 323ms/step - accuracy: 0.9508 - loss: 0.1624 - val_accuracy: 0.9572 - val_loss: 0.1475\n",
      "Epoch 28/50\n",
      "\u001b[1m58/58\u001b[0m \u001b[32m━━━━━━━━━━━━━━━━━━━━\u001b[0m\u001b[37m\u001b[0m \u001b[1m19s\u001b[0m 321ms/step - accuracy: 0.9553 - loss: 0.1524 - val_accuracy: 0.9669 - val_loss: 0.1190\n",
      "Epoch 29/50\n",
      "\u001b[1m58/58\u001b[0m \u001b[32m━━━━━━━━━━━━━━━━━━━━\u001b[0m\u001b[37m\u001b[0m \u001b[1m18s\u001b[0m 315ms/step - accuracy: 0.9591 - loss: 0.1408 - val_accuracy: 0.9524 - val_loss: 0.1681\n",
      "Epoch 30/50\n",
      "\u001b[1m58/58\u001b[0m \u001b[32m━━━━━━━━━━━━━━━━━━━━\u001b[0m\u001b[37m\u001b[0m \u001b[1m19s\u001b[0m 332ms/step - accuracy: 0.9551 - loss: 0.1525 - val_accuracy: 0.9651 - val_loss: 0.1233\n",
      "Epoch 31/50\n",
      "\u001b[1m58/58\u001b[0m \u001b[32m━━━━━━━━━━━━━━━━━━━━\u001b[0m\u001b[37m\u001b[0m \u001b[1m19s\u001b[0m 327ms/step - accuracy: 0.9648 - loss: 0.1246 - val_accuracy: 0.9616 - val_loss: 0.1288\n",
      "Epoch 32/50\n",
      "\u001b[1m58/58\u001b[0m \u001b[32m━━━━━━━━━━━━━━━━━━━━\u001b[0m\u001b[37m\u001b[0m \u001b[1m20s\u001b[0m 337ms/step - accuracy: 0.9642 - loss: 0.1281 - val_accuracy: 0.9658 - val_loss: 0.1147\n",
      "Epoch 33/50\n",
      "\u001b[1m58/58\u001b[0m \u001b[32m━━━━━━━━━━━━━━━━━━━━\u001b[0m\u001b[37m\u001b[0m \u001b[1m20s\u001b[0m 344ms/step - accuracy: 0.9625 - loss: 0.1282 - val_accuracy: 0.9585 - val_loss: 0.1449\n",
      "Epoch 34/50\n",
      "\u001b[1m58/58\u001b[0m \u001b[32m━━━━━━━━━━━━━━━━━━━━\u001b[0m\u001b[37m\u001b[0m \u001b[1m19s\u001b[0m 324ms/step - accuracy: 0.9654 - loss: 0.1251 - val_accuracy: 0.9707 - val_loss: 0.1128\n",
      "Epoch 35/50\n",
      "\u001b[1m58/58\u001b[0m \u001b[32m━━━━━━━━━━━━━━━━━━━━\u001b[0m\u001b[37m\u001b[0m \u001b[1m18s\u001b[0m 311ms/step - accuracy: 0.9660 - loss: 0.1211 - val_accuracy: 0.9658 - val_loss: 0.1133\n",
      "Epoch 36/50\n",
      "\u001b[1m58/58\u001b[0m \u001b[32m━━━━━━━━━━━━━━━━━━━━\u001b[0m\u001b[37m\u001b[0m \u001b[1m19s\u001b[0m 325ms/step - accuracy: 0.9700 - loss: 0.1115 - val_accuracy: 0.9670 - val_loss: 0.1194\n",
      "Epoch 37/50\n",
      "\u001b[1m58/58\u001b[0m \u001b[32m━━━━━━━━━━━━━━━━━━━━\u001b[0m\u001b[37m\u001b[0m \u001b[1m19s\u001b[0m 323ms/step - accuracy: 0.9705 - loss: 0.1090 - val_accuracy: 0.9625 - val_loss: 0.1429\n",
      "Epoch 38/50\n",
      "\u001b[1m58/58\u001b[0m \u001b[32m━━━━━━━━━━━━━━━━━━━━\u001b[0m\u001b[37m\u001b[0m \u001b[1m18s\u001b[0m 314ms/step - accuracy: 0.9681 - loss: 0.1137 - val_accuracy: 0.9689 - val_loss: 0.1177\n",
      "Epoch 39/50\n",
      "\u001b[1m58/58\u001b[0m \u001b[32m━━━━━━━━━━━━━━━━━━━━\u001b[0m\u001b[37m\u001b[0m \u001b[1m18s\u001b[0m 313ms/step - accuracy: 0.9724 - loss: 0.1037 - val_accuracy: 0.9556 - val_loss: 0.1618\n",
      "Epoch 40/50\n",
      "\u001b[1m58/58\u001b[0m \u001b[32m━━━━━━━━━━━━━━━━━━━━\u001b[0m\u001b[37m\u001b[0m \u001b[1m18s\u001b[0m 316ms/step - accuracy: 0.9700 - loss: 0.1063 - val_accuracy: 0.9644 - val_loss: 0.1273\n",
      "Epoch 41/50\n",
      "\u001b[1m58/58\u001b[0m \u001b[32m━━━━━━━━━━━━━━━━━━━━\u001b[0m\u001b[37m\u001b[0m \u001b[1m18s\u001b[0m 308ms/step - accuracy: 0.9709 - loss: 0.1056 - val_accuracy: 0.9682 - val_loss: 0.1216\n",
      "Epoch 42/50\n",
      "\u001b[1m58/58\u001b[0m \u001b[32m━━━━━━━━━━━━━━━━━━━━\u001b[0m\u001b[37m\u001b[0m \u001b[1m17s\u001b[0m 301ms/step - accuracy: 0.9736 - loss: 0.0931 - val_accuracy: 0.9746 - val_loss: 0.1032\n",
      "Epoch 43/50\n",
      "\u001b[1m58/58\u001b[0m \u001b[32m━━━━━━━━━━━━━━━━━━━━\u001b[0m\u001b[37m\u001b[0m \u001b[1m18s\u001b[0m 308ms/step - accuracy: 0.9721 - loss: 0.1070 - val_accuracy: 0.9613 - val_loss: 0.1363\n",
      "Epoch 44/50\n",
      "\u001b[1m58/58\u001b[0m \u001b[32m━━━━━━━━━━━━━━━━━━━━\u001b[0m\u001b[37m\u001b[0m \u001b[1m18s\u001b[0m 307ms/step - accuracy: 0.9746 - loss: 0.0936 - val_accuracy: 0.9706 - val_loss: 0.1038\n",
      "Epoch 45/50\n",
      "\u001b[1m58/58\u001b[0m \u001b[32m━━━━━━━━━━━━━━━━━━━━\u001b[0m\u001b[37m\u001b[0m \u001b[1m18s\u001b[0m 309ms/step - accuracy: 0.9734 - loss: 0.0954 - val_accuracy: 0.9682 - val_loss: 0.1253\n",
      "Epoch 46/50\n",
      "\u001b[1m58/58\u001b[0m \u001b[32m━━━━━━━━━━━━━━━━━━━━\u001b[0m\u001b[37m\u001b[0m \u001b[1m18s\u001b[0m 319ms/step - accuracy: 0.9733 - loss: 0.0957 - val_accuracy: 0.9702 - val_loss: 0.1352\n",
      "Epoch 47/50\n",
      "\u001b[1m58/58\u001b[0m \u001b[32m━━━━━━━━━━━━━━━━━━━━\u001b[0m\u001b[37m\u001b[0m \u001b[1m18s\u001b[0m 308ms/step - accuracy: 0.9769 - loss: 0.0874 - val_accuracy: 0.9785 - val_loss: 0.0841\n",
      "Epoch 48/50\n",
      "\u001b[1m58/58\u001b[0m \u001b[32m━━━━━━━━━━━━━━━━━━━━\u001b[0m\u001b[37m\u001b[0m \u001b[1m18s\u001b[0m 311ms/step - accuracy: 0.9788 - loss: 0.0800 - val_accuracy: 0.9706 - val_loss: 0.1179\n",
      "Epoch 49/50\n",
      "\u001b[1m58/58\u001b[0m \u001b[32m━━━━━━━━━━━━━━━━━━━━\u001b[0m\u001b[37m\u001b[0m \u001b[1m18s\u001b[0m 311ms/step - accuracy: 0.9780 - loss: 0.0842 - val_accuracy: 0.9730 - val_loss: 0.1031\n",
      "Epoch 50/50\n",
      "\u001b[1m58/58\u001b[0m \u001b[32m━━━━━━━━━━━━━━━━━━━━\u001b[0m\u001b[37m\u001b[0m \u001b[1m18s\u001b[0m 312ms/step - accuracy: 0.9793 - loss: 0.0731 - val_accuracy: 0.9743 - val_loss: 0.0991\n",
      "188.353515625 KB\n"
     ]
    }
   ],
   "source": [
    "history = model.fit(\n",
    "    train_dataset,\n",
    "    epochs=50,\n",
    "    validation_data=val_dataset\n",
    ")\n",
    "\n",
    "filename = \"/kaggle/working/shoaib_har_lstm.keras\"\n",
    "model.save(filename)\n",
    "print(os.path.getsize(filename) / 1024, \"KB\")"
   ]
  },
  {
   "cell_type": "markdown",
   "id": "4b7d088d",
   "metadata": {
    "papermill": {
     "duration": 0.154075,
     "end_time": "2025-10-25T17:41:23.134308",
     "exception": false,
     "start_time": "2025-10-25T17:41:22.980233",
     "status": "completed"
    },
    "tags": []
   },
   "source": [
    "# Evaluate"
   ]
  },
  {
   "cell_type": "code",
   "execution_count": 9,
   "id": "aaab0631",
   "metadata": {
    "execution": {
     "iopub.execute_input": "2025-10-25T17:41:23.454368Z",
     "iopub.status.busy": "2025-10-25T17:41:23.453539Z",
     "iopub.status.idle": "2025-10-25T17:41:27.229586Z",
     "shell.execute_reply": "2025-10-25T17:41:27.228753Z"
    },
    "papermill": {
     "duration": 3.933266,
     "end_time": "2025-10-25T17:41:27.231428",
     "exception": false,
     "start_time": "2025-10-25T17:41:23.298162",
     "status": "completed"
    },
    "tags": []
   },
   "outputs": [
    {
     "name": "stdout",
     "output_type": "stream",
     "text": [
      "\u001b[1m20/20\u001b[0m \u001b[32m━━━━━━━━━━━━━━━━━━━━\u001b[0m\u001b[37m\u001b[0m \u001b[1m3s\u001b[0m 142ms/step\n",
      "              precision    recall  f1-score   support\n",
      "\n",
      "     walking       0.98      0.98      0.98      1408\n",
      "    standing       0.95      0.99      0.97      1406\n",
      "     jogging       1.00      1.00      1.00      1406\n",
      "     sitting       0.98      0.95      0.96      1406\n",
      "      biking       0.99      0.98      0.98      1407\n",
      "    upstairs       0.97      0.98      0.98      1406\n",
      "  downstairs       0.99      0.98      0.99      1405\n",
      "\n",
      "    accuracy                           0.98      9844\n",
      "   macro avg       0.98      0.98      0.98      9844\n",
      "weighted avg       0.98      0.98      0.98      9844\n",
      "\n"
     ]
    },
    {
     "data": {
      "image/png": "[encoded data removed]",
      "text/plain": [
       "<Figure size 640x480 with 2 Axes>"
      ]
     },
     "metadata": {},
     "output_type": "display_data"
    }
   ],
   "source": [
    "labels = ['walking', 'standing', 'jogging', 'sitting', 'biking', 'upstairs', 'downstairs']\n",
    "y_pred_probs = model.predict(test_dataset)          # probabilities\n",
    "y_pred = np.argmax(y_pred_probs, axis=1)          # predicted labels\n",
    "y_true = np.argmax(y_test, axis=1)                # true labels\n",
    "print(classification_report(y_true, y_pred, target_names=labels))\n",
    "\n",
    "cm = confusion_matrix(y_true, y_pred)\n",
    "cm = cm / cm.sum(axis=1)[:, None]\n",
    "labels = ['walking', 'standing', 'jogging', 'sitting', 'biking', 'upstairs', 'downstairs']\n",
    "sns.heatmap(cm, annot=True, xticklabels=labels, yticklabels=labels, fmt=\".2f\", cmap=\"Blues\")\n",
    "plt.xlabel('Predicted')\n",
    "plt.ylabel('True')\n",
    "plt.title('Confusion Matrix')\n",
    "plt.show()"
   ]
  },
  {
   "cell_type": "markdown",
   "id": "73a84d89",
   "metadata": {
    "papermill": {
     "duration": 0.164876,
     "end_time": "2025-10-25T17:41:27.552111",
     "exception": false,
     "start_time": "2025-10-25T17:41:27.387235",
     "status": "completed"
    },
    "tags": []
   },
   "source": [
    "# Convert to TFLite"
   ]
  },
  {
   "cell_type": "code",
   "execution_count": 10,
   "id": "437f7750",
   "metadata": {
    "execution": {
     "iopub.execute_input": "2025-10-25T17:41:27.865258Z",
     "iopub.status.busy": "2025-10-25T17:41:27.864944Z",
     "iopub.status.idle": "2025-10-25T17:41:32.036220Z",
     "shell.execute_reply": "2025-10-25T17:41:32.034416Z"
    },
    "papermill": {
     "duration": 4.331338,
     "end_time": "2025-10-25T17:41:32.038311",
     "exception": false,
     "start_time": "2025-10-25T17:41:27.706973",
     "status": "completed"
    },
    "tags": []
   },
   "outputs": [
    {
     "name": "stdout",
     "output_type": "stream",
     "text": [
      "Saved artifact at '/tmp/tmpvdssq7mg'. The following endpoints are available:\n",
      "\n",
      "* Endpoint 'serve'\n",
      "  args_0 (POSITIONAL_ONLY): TensorSpec(shape=(None, 128, 6), dtype=tf.float32, name='keras_tensor')\n",
      "Output Type:\n",
      "  TensorSpec(shape=(None, 7), dtype=tf.float32, name=None)\n",
      "Captures:\n",
      "  136873485919696: TensorSpec(shape=(), dtype=tf.resource, name=None)\n",
      "  136873485920080: TensorSpec(shape=(), dtype=tf.resource, name=None)\n",
      "  136873485921040: TensorSpec(shape=(), dtype=tf.resource, name=None)\n",
      "  136873485921232: TensorSpec(shape=(), dtype=tf.resource, name=None)\n",
      "  136873485919504: TensorSpec(shape=(), dtype=tf.resource, name=None)\n",
      "  136873485920272: TensorSpec(shape=(), dtype=tf.resource, name=None)\n",
      "  136873485920848: TensorSpec(shape=(), dtype=tf.resource, name=None)\n"
     ]
    },
    {
     "name": "stderr",
     "output_type": "stream",
     "text": [
      "/usr/local/lib/python3.11/dist-packages/tensorflow/lite/python/convert.py:997: UserWarning: Statistics for quantized inputs were expected, but not specified; continuing anyway.\n",
      "  warnings.warn(\n",
      "WARNING: All log messages before absl::InitializeLog() is called are written to STDERR\n",
      "W0000 00:00:1761414089.658785      13 tf_tfl_flatbuffer_helpers.cc:365] Ignored output_format.\n",
      "W0000 00:00:1761414089.658869      13 tf_tfl_flatbuffer_helpers.cc:368] Ignored drop_control_dependency.\n",
      "I0000 00:00:1761414089.668014      13 mlir_graph_optimization_pass.cc:401] MLIR V1 optimization pass is not enabled\n"
     ]
    },
    {
     "name": "stdout",
     "output_type": "stream",
     "text": [
      "42.2421875 KB\n"
     ]
    },
    {
     "name": "stderr",
     "output_type": "stream",
     "text": [
      "fully_quantize: 0, inference_type: 6, input_inference_type: INT8, output_inference_type: INT8\n"
     ]
    },
    {
     "name": "stdout",
     "output_type": "stream",
     "text": [
      "=== /kaggle/working/shoaib_har_lstm_quant.tflite ===\n",
      "\n",
      "Your TFLite model has '3' subgraph(s). In the subgraph description below,\n",
      "T# represents the Tensor numbers. For example, in Subgraph#0, the SHAPE op takes\n",
      "tensor #0 as input and produces tensor #15 as output.\n",
      "\n",
      "Subgraph#0 main(T#0) -> [T#32]\n",
      "  Op#0 SHAPE(T#0) -> [T#15]\n",
      "  Op#1 STRIDED_SLICE(T#15, T#2[0], T#3[1], T#3[1]) -> [T#16]\n",
      "  Op#2 TRANSPOSE(T#0, T#4[1, 0, 2]) -> [T#17]\n",
      "  Op#3 DEQUANTIZE(T#17) -> [T#18]\n",
      "  Op#4 PACK(T#16, T#5[64]) -> [T#19]\n",
      "  Op#5 FILL(T#19, T#14) -> [T#20]\n",
      "  Op#6 DEQUANTIZE(T#20) -> [T#21]\n",
      "  Op#7 WHILE(T#6[0], T#6[0], T#1, T#21, T#21, T#18, Cond: Subgraph#1, Body: Subgraph#2) -> [T#22, T#23, T#24, T#25, T#26, T#27]\n",
      "  Op#8 QUANTIZE(T#24) -> [T#28]\n",
      "  Op#9 STRIDED_SLICE(T#28, T#7[-1, 0, 0], T#8[0, 0, 64], T#9[1, 1, 1]) -> [T#29]\n",
      "  Op#10 FULLY_CONNECTED(T#29, T#13, T#12[5354, 1887, 5762, 981, 11985, ...]) -> [T#30]\n",
      "  Op#11 FULLY_CONNECTED(T#30, T#11, T#10[-906, 125, -1175, 362, 207, ...]) -> [T#31]\n",
      "  Op#12 SOFTMAX(T#31) -> [T#32]\n",
      "\n",
      "Tensors of Subgraph#0\n",
      "  T#0(serving_default_keras_tensor:0) shape_signature:[-1, 128, 6], type:INT8\n",
      "  T#1(arith.constant) shape:[1, 1, 64], type:FLOAT32 RO 256 bytes, buffer: 2, data:[0, 0, 0, 0, 0, ...]\n",
      "  T#2(arith.constant1) shape:[1], type:INT32 RO 4 bytes, buffer: 3, data:[0]\n",
      "  T#3(arith.constant2) shape:[1], type:INT32 RO 4 bytes, buffer: 4, data:[1]\n",
      "  T#4(arith.constant3) shape:[3], type:INT32 RO 12 bytes, buffer: 5, data:[1, 0, 2]\n",
      "  T#5(arith.constant4) shape:[], type:INT32 RO 4 bytes, buffer: 6, data:[64]\n",
      "  T#6(arith.constant5) shape:[], type:INT32 RO 4 bytes, buffer: 3, data:[0]\n",
      "  T#7(arith.constant6) shape:[3], type:INT32 RO 12 bytes, buffer: 8, data:[-1, 0, 0]\n",
      "  T#8(arith.constant7) shape:[3], type:INT32 RO 12 bytes, buffer: 9, data:[0, 0, 64]\n",
      "  T#9(arith.constant8) shape:[3], type:INT32 RO 12 bytes, buffer: 10, data:[1, 1, 1]\n",
      "  T#10(tfl.pseudo_qconst) shape:[7], type:INT32 RO 28 bytes, buffer: 11, data:[-906, 125, -1175, 362, 207, ...]\n",
      "  T#11(tfl.pseudo_qconst1) shape:[7, 32], type:INT8 RO 224 bytes, buffer: 12, data:[., C, +, ., ., ...]\n",
      "  T#12(tfl.pseudo_qconst2) shape:[32], type:INT32 RO 128 bytes, buffer: 13, data:[5354, 1887, 5762, 981, 11985, ...]\n",
      "  T#13(tfl.pseudo_qconst3) shape:[32, 64], type:INT8 RO 2048 bytes, buffer: 14, data:[., ., ., ., 0, ...]\n",
      "  T#14(tfl.pseudo_qconst4) shape:[], type:INT8 RO 1 bytes, buffer: 15, data:[.]\n",
      "  T#15(sequential_1/lstm_1/Shape) shape:[3], type:INT32\n",
      "  T#16(sequential_1/lstm_1/strided_slice) shape:[], type:INT32\n",
      "  T#17(sequential_1/lstm_1/transpose) shape_signature:[128, -1, 6], type:INT8\n",
      "  T#18(sequential_1/lstm_1/transpose1) shape_signature:[128, -1, 6], type:FLOAT32\n",
      "  T#19(sequential_1/lstm_1/zeros/packed) shape:[2], type:INT32\n",
      "  T#20(sequential_1/lstm_1/zeros) shape_signature:[-1, 64], type:INT8\n",
      "  T#21(tfl.dequantize) shape_signature:[-1, 64], type:FLOAT32\n",
      "  T#22(sequential_1/lstm_1/while;sequential_1/lstm_1/while1;sequential_1/lstm_1/while2;sequential_1/lstm_1/while3;sequential_1/lstm_1/while4;sequential_1/lstm_1/while5) shape:[], type:INT32\n",
      "  T#23(sequential_1/lstm_1/while;sequential_1/lstm_1/while1;sequential_1/lstm_1/while2;sequential_1/lstm_1/while3;sequential_1/lstm_1/while4;sequential_1/lstm_1/while51) shape:[], type:INT32\n",
      "  T#24(sequential_1/lstm_1/while;sequential_1/lstm_1/while1;sequential_1/lstm_1/while2;sequential_1/lstm_1/while3;sequential_1/lstm_1/while4;sequential_1/lstm_1/while52) shape_signature:[1, -1, 64], type:FLOAT32\n",
      "  T#25(sequential_1/lstm_1/while;sequential_1/lstm_1/while1;sequential_1/lstm_1/while2;sequential_1/lstm_1/while3;sequential_1/lstm_1/while4;sequential_1/lstm_1/while53) shape_signature:[-1, 64], type:FLOAT32\n",
      "  T#26(sequential_1/lstm_1/while;sequential_1/lstm_1/while1;sequential_1/lstm_1/while2;sequential_1/lstm_1/while3;sequential_1/lstm_1/while4;sequential_1/lstm_1/while54) shape_signature:[-1, 64], type:FLOAT32\n",
      "  T#27(sequential_1/lstm_1/while;sequential_1/lstm_1/while1;sequential_1/lstm_1/while2;sequential_1/lstm_1/while3;sequential_1/lstm_1/while4;sequential_1/lstm_1/while55) shape_signature:[128, -1, 6], type:FLOAT32\n",
      "  T#28(tfl.quantize) shape_signature:[1, -1, 64], type:INT8\n",
      "  T#29(sequential_1/lstm_1/strided_slice_3) shape_signature:[-1, 64], type:INT8\n",
      "  T#30(sequential_1/dense_1/MatMul;sequential_1/dense_1/Relu;sequential_1/dense_1/BiasAdd) shape_signature:[-1, 32], type:INT8\n",
      "  T#31(sequential_1/dense_1_2/MatMul;sequential_1/dense_1_2/BiasAdd) shape_signature:[-1, 7], type:INT8\n",
      "  T#32(StatefulPartitionedCall_1:0) shape_signature:[-1, 7], type:INT8\n",
      "\n",
      "Subgraph#1 sequential_1/lstm_1/while_cond(T#1_0, T#1_1, T#1_2, T#1_3, T#1_4, T#1_5) -> [T#1_9]\n",
      "  Op#0 LESS(T#1_1, T#1_6[128]) -> [T#1_7]\n",
      "  Op#1 LESS(T#1_0, T#1_6[128]) -> [T#1_8]\n",
      "  Op#2 LOGICAL_AND(T#1_8, T#1_7) -> [T#1_9]\n",
      "\n",
      "Tensors of Subgraph#1\n",
      "  T#1_0(sequential_1/lstm_1/while_cond_arg0) shape:[], type:INT32\n",
      "  T#1_1(sequential_1/lstm_1/while_cond_arg1) shape:[], type:INT32\n",
      "  T#1_2(sequential_1/lstm_1/while_cond_arg2) shape_signature:[1, -1, 64], type:FLOAT32\n",
      "  T#1_3(sequential_1/lstm_1/while_cond_arg3) shape_signature:[-1, 64], type:FLOAT32\n",
      "  T#1_4(sequential_1/lstm_1/while_cond_arg4) shape_signature:[-1, 64], type:FLOAT32\n",
      "  T#1_5(sequential_1/lstm_1/while_cond_arg5) shape_signature:[128, -1, 6], type:FLOAT32\n",
      "  T#1_6(arith.constant15) shape:[], type:INT32 RO 4 bytes, buffer: 40, data:[128]\n",
      "  T#1_7(sequential_1/lstm_1/while/Less) shape:[], type:BOOL\n",
      "  T#1_8(sequential_1/lstm_1/while/Less_1) shape:[], type:BOOL\n",
      "  T#1_9(sequential_1/lstm_1/while/LogicalAnd) shape:[], type:BOOL\n",
      "\n",
      "Subgraph#2 sequential_1/lstm_1/while_body(T#2_0, T#2_1, T#2_2, T#2_3, T#2_4, T#2_5) -> [T#2_21, T#2_19, T#2_45, T#2_40, T#2_37, T#2_5]\n",
      "  Op#0 QUANTIZE(T#2_2) -> [T#2_15]\n",
      "  Op#1 QUANTIZE(T#2_3) -> [T#2_16]\n",
      "  Op#2 QUANTIZE(T#2_4) -> [T#2_17]\n",
      "  Op#3 QUANTIZE(T#2_5) -> [T#2_18]\n",
      "  Op#4 ADD(T#2_1, T#2_6[1]) -> [T#2_19]\n",
      "  Op#5 FULLY_CONNECTED(T#2_16, T#2_14, T#-1) -> [T#2_20]\n",
      "  Op#6 ADD(T#2_0, T#2_6[1]) -> [T#2_21]\n",
      "  Op#7 GATHER(T#2_18, T#2_1) -> [T#2_22]\n",
      "  Op#8 FULLY_CONNECTED(T#2_22, T#2_13, T#-1) -> [T#2_23]\n",
      "  Op#9 ADD(T#2_23, T#2_20) -> [T#2_24]\n",
      "  Op#10 ADD(T#2_24, T#2_12) -> [T#2_25]\n",
      "  Op#11 SPLIT(T#2_6[1], T#2_25) -> [T#2_26, T#2_27, T#2_28, T#2_29]\n",
      "  Op#12 LOGISTIC(T#2_26) -> [T#2_30]\n",
      "  Op#13 LOGISTIC(T#2_27) -> [T#2_31]\n",
      "  Op#14 MUL(T#2_31, T#2_17) -> [T#2_32]\n",
      "  Op#15 LOGISTIC(T#2_29) -> [T#2_33]\n",
      "  Op#16 TANH(T#2_28) -> [T#2_34]\n",
      "  Op#17 MUL(T#2_30, T#2_34) -> [T#2_35]\n",
      "  Op#18 ADD(T#2_32, T#2_35) -> [T#2_36]\n",
      "  Op#19 DEQUANTIZE(T#2_36) -> [T#2_37]\n",
      "  Op#20 TANH(T#2_36) -> [T#2_38]\n",
      "  Op#21 MUL(T#2_33, T#2_38) -> [T#2_39]\n",
      "  Op#22 DEQUANTIZE(T#2_39) -> [T#2_40]\n",
      "  Op#23 SLICE(T#2_15, T#2_11[0, 0, 0], T#2_10[0, -1, -1]) -> [T#2_41]\n",
      "  Op#24 SLICE(T#2_15, T#2_9[1, 0, 0], T#2_8[-1, -1, -1]) -> [T#2_42]\n",
      "  Op#25 EXPAND_DIMS(T#2_39, T#2_7[0]) -> [T#2_43]\n",
      "  Op#26 CONCATENATION(T#2_41, T#2_43, T#2_42) -> [T#2_44]\n",
      "  Op#27 DEQUANTIZE(T#2_44) -> [T#2_45]\n",
      "\n",
      "Tensors of Subgraph#2\n",
      "  T#2_0(sequential_1/lstm_1/while_body_arg0) shape:[], type:INT32\n",
      "  T#2_1(sequential_1/lstm_1/while_body_arg1) shape:[], type:INT32\n",
      "  T#2_2(sequential_1/lstm_1/while_body_arg2) shape_signature:[1, -1, 64], type:FLOAT32\n",
      "  T#2_3(sequential_1/lstm_1/while_body_arg3) shape_signature:[-1, 64], type:FLOAT32\n",
      "  T#2_4(sequential_1/lstm_1/while_body_arg4) shape_signature:[-1, 64], type:FLOAT32\n",
      "  T#2_5(sequential_1/lstm_1/while_body_arg5) shape_signature:[128, -1, 6], type:FLOAT32\n",
      "  T#2_6(arith.constant9) shape:[], type:INT32 RO 4 bytes, buffer: 4, data:[1]\n",
      "  T#2_7(arith.constant10) shape:[], type:INT32 RO 4 bytes, buffer: 3, data:[0]\n",
      "  T#2_8(arith.constant11) shape:[3], type:INT32 RO 12 bytes, buffer: 52, data:[-1, -1, -1]\n",
      "  T#2_9(arith.constant12) shape:[3], type:INT32 RO 12 bytes, buffer: 53, data:[1, 0, 0]\n",
      "  T#2_10(arith.constant13) shape:[3], type:INT32 RO 12 bytes, buffer: 54, data:[0, -1, -1]\n",
      "  T#2_11(arith.constant14) shape:[3], type:INT32 RO 12 bytes, buffer: 55, data:[0, 0, 0]\n",
      "  T#2_12(tfl.pseudo_qconst5) shape:[256], type:INT8 RO 256 bytes, buffer: 56, data:[., ., ., ., ., ...]\n",
      "  T#2_13(tfl.pseudo_qconst6) shape:[256, 6], type:INT8 RO 1536 bytes, buffer: 57, data:[}, :, V, ., ., ...]\n",
      "  T#2_14(tfl.pseudo_qconst7) shape:[256, 64], type:INT8 RO 16384 bytes, buffer: 58, data:[., ., _, ;, ., ...]\n",
      "  T#2_15(tfl.quantize1) shape_signature:[1, -1, 64], type:INT8\n",
      "  T#2_16(tfl.quantize2) shape_signature:[-1, 64], type:INT8\n",
      "  T#2_17(tfl.quantize3) shape_signature:[-1, 64], type:INT8\n",
      "  T#2_18(tfl.quantize4) shape_signature:[128, -1, 6], type:INT8\n",
      "  T#2_19(sequential_1/lstm_1/while/add) shape:[], type:INT32\n",
      "  T#2_20(sequential_1/lstm_1/while/lstm_cell_1/MatMul_1) shape_signature:[-1, 256], type:INT8\n",
      "  T#2_21(sequential_1/lstm_1/while/add_1) shape:[], type:INT32\n",
      "  T#2_22(sequential_1/lstm_1/while/TensorArrayV2Read/TensorListGetItem) shape_signature:[-1, 6], type:INT8\n",
      "  T#2_23(sequential_1/lstm_1/while/lstm_cell_1/MatMul) shape_signature:[-1, 256], type:INT8\n",
      "  T#2_24(sequential_1/lstm_1/while/lstm_cell_1/add) shape_signature:[-1, 256], type:INT8\n",
      "  T#2_25(sequential_1/lstm_1/while/lstm_cell_1/add_1) shape_signature:[-1, 256], type:INT8\n",
      "  T#2_26(sequential_1/lstm_1/while/lstm_cell_1/split;sequential_1/lstm_1/while/lstm_cell_1/split1;sequential_1/lstm_1/while/lstm_cell_1/split2;sequential_1/lstm_1/while/lstm_cell_1/split3) shape_signature:[-1, 64], type:INT8\n",
      "  T#2_27(sequential_1/lstm_1/while/lstm_cell_1/split;sequential_1/lstm_1/while/lstm_cell_1/split1;sequential_1/lstm_1/while/lstm_cell_1/split2;sequential_1/lstm_1/while/lstm_cell_1/split31) shape_signature:[-1, 64], type:INT8\n",
      "  T#2_28(sequential_1/lstm_1/while/lstm_cell_1/split;sequential_1/lstm_1/while/lstm_cell_1/split1;sequential_1/lstm_1/while/lstm_cell_1/split2;sequential_1/lstm_1/while/lstm_cell_1/split32) shape_signature:[-1, 64], type:INT8\n",
      "  T#2_29(sequential_1/lstm_1/while/lstm_cell_1/split;sequential_1/lstm_1/while/lstm_cell_1/split1;sequential_1/lstm_1/while/lstm_cell_1/split2;sequential_1/lstm_1/while/lstm_cell_1/split33) shape_signature:[-1, 64], type:INT8\n",
      "  T#2_30(sequential_1/lstm_1/while/lstm_cell_1/Sigmoid) shape_signature:[-1, 64], type:INT8\n",
      "  T#2_31(sequential_1/lstm_1/while/lstm_cell_1/Sigmoid_1) shape_signature:[-1, 64], type:INT8\n",
      "  T#2_32(sequential_1/lstm_1/while/lstm_cell_1/mul) shape_signature:[-1, 64], type:INT8\n",
      "  T#2_33(sequential_1/lstm_1/while/lstm_cell_1/Sigmoid_2) shape_signature:[-1, 64], type:INT8\n",
      "  T#2_34(sequential_1/lstm_1/while/lstm_cell_1/Tanh) shape_signature:[-1, 64], type:INT8\n",
      "  T#2_35(sequential_1/lstm_1/while/lstm_cell_1/mul_1) shape_signature:[-1, 64], type:INT8\n",
      "  T#2_36(sequential_1/lstm_1/while/lstm_cell_1/add_2) shape_signature:[-1, 64], type:INT8\n",
      "  T#2_37(tfl.dequantize1) shape_signature:[-1, 64], type:FLOAT32\n",
      "  T#2_38(sequential_1/lstm_1/while/lstm_cell_1/Tanh_1) shape_signature:[-1, 64], type:INT8\n",
      "  T#2_39(sequential_1/lstm_1/while/lstm_cell_1/mul_2) shape_signature:[-1, 64], type:INT8\n",
      "  T#2_40(sequential_1/lstm_1/while/lstm_cell_1/mul_21) shape_signature:[-1, 64], type:FLOAT32\n",
      "  T#2_41(sequential_1/lstm_1/while/TensorArrayV2Write/TensorListSetItem) shape_signature:[0, -1, 64], type:INT8\n",
      "  T#2_42(sequential_1/lstm_1/while/TensorArrayV2Write/TensorListSetItem1) shape_signature:[0, -1, 64], type:INT8\n",
      "  T#2_43(sequential_1/lstm_1/while/TensorArrayV2Write/TensorListSetItem2) shape_signature:[1, -1, 64], type:INT8\n",
      "  T#2_44(sequential_1/lstm_1/while/TensorArrayV2Write/TensorListSetItem3) shape_signature:[1, -1, 64], type:INT8\n",
      "  T#2_45(tfl.dequantize2) shape_signature:[1, -1, 64], type:FLOAT32\n",
      "\n",
      "---------------------------------------------------------------\n",
      "Your TFLite model has '1' signature_def(s).\n",
      "\n",
      "Signature#0 key: 'serving_default'\n",
      "- Subgraph: Subgraph#0\n",
      "- Inputs: \n",
      "    'keras_tensor' : T#0\n",
      "- Outputs: \n",
      "    'output_0' : T#32\n",
      "\n",
      "---------------------------------------------------------------\n",
      "              Model size:      43256 bytes\n",
      "    Non-data buffer size:      22155 bytes (51.22 %)\n",
      "  Total data buffer size:      21101 bytes (48.78 %)\n",
      "          - Subgraph#0  :       2749 bytes (06.36 %)\n",
      "          - Subgraph#1  :          4 bytes (00.01 %)\n",
      "          - Subgraph#2  :      18232 bytes (42.15 %)\n",
      "    (Zero value buffers):        289 bytes (00.67 %)\n",
      "\n",
      "* Buffers of TFLite model are mostly used for constant tensors.\n",
      "  And zero value buffers are buffers filled with zeros.\n",
      "  Non-data buffers area are used to store operators, subgraphs and etc.\n",
      "  You can find more details from https://github.com/tensorflow/tensorflow/blob/master/tensorflow/lite/schema/schema.fbs\n",
      "\n"
     ]
    }
   ],
   "source": [
    "def representative_data():\n",
    "    for data in tf.data.Dataset.from_tensor_slices(X_train).batch(1).take(100):\n",
    "        yield [tf.cast(data, tf.float32)]\n",
    "        \n",
    "converter = tf.lite.TFLiteConverter.from_keras_model(model)\n",
    "converter.optimizations = [tf.lite.Optimize.DEFAULT]\n",
    "converter._experimental_default_to_single_batch_in_tensor_list_ops = True\n",
    "converter.representative_dataset = representative_data\n",
    "converter.target_spec.supported_ops = [tf.lite.OpsSet.TFLITE_BUILTINS_INT8]\n",
    "converter.inference_input_type = tf.int8\n",
    "converter.inference_output_type = tf.int8\n",
    "\n",
    "tflite_model = converter.convert()\n",
    "\n",
    "filename = \"/kaggle/working/shoaib_har_lstm_quant.tflite\"\n",
    "with open(filename, \"wb\") as f:\n",
    "    f.write(tflite_model)\n",
    "\n",
    "print(os.path.getsize(filename) / 1024, \"KB\")\n",
    "\n",
    "!echo \"const unsigned char model[] = {\" > /kaggle/working/shoaib_har_lstm.h\n",
    "!cat shoaib_har_lstm_quant.tflite | xxd -i      >> /kaggle/working/shoaib_har_lstm.h\n",
    "!echo \"};\"                              >> /kaggle/working/shoaib_har_lstm.h\n",
    "\n",
    "tf.lite.experimental.Analyzer.analyze(model_path=filename)"
   ]
  },
  {
   "cell_type": "markdown",
   "id": "f4c32009",
   "metadata": {
    "papermill": {
     "duration": 0.152549,
     "end_time": "2025-10-25T17:41:32.346938",
     "exception": false,
     "start_time": "2025-10-25T17:41:32.194389",
     "status": "completed"
    },
    "tags": []
   },
   "source": [
    "# Evaluate TFLite"
   ]
  },
  {
   "cell_type": "code",
   "execution_count": 11,
   "id": "94bba809",
   "metadata": {
    "execution": {
     "iopub.execute_input": "2025-10-25T17:41:32.773752Z",
     "iopub.status.busy": "2025-10-25T17:41:32.773369Z",
     "iopub.status.idle": "2025-10-25T17:41:41.999760Z",
     "shell.execute_reply": "2025-10-25T17:41:41.998850Z"
    },
    "papermill": {
     "duration": 9.386918,
     "end_time": "2025-10-25T17:41:42.001266",
     "exception": false,
     "start_time": "2025-10-25T17:41:32.614348",
     "status": "completed"
    },
    "tags": []
   },
   "outputs": [
    {
     "name": "stderr",
     "output_type": "stream",
     "text": [
      "INFO: Created TensorFlow Lite XNNPACK delegate for CPU.\n"
     ]
    },
    {
     "data": {
      "application/vnd.jupyter.widget-view+json": {
       "model_id": "3f65113b9c4c4ff38c4db1dd114a8ddc",
       "version_major": 2,
       "version_minor": 0
      },
      "text/plain": [
       "  0%|          | 0/9844 [00:00<?, ?it/s]"
      ]
     },
     "metadata": {},
     "output_type": "display_data"
    },
    {
     "name": "stdout",
     "output_type": "stream",
     "text": [
      "              precision    recall  f1-score   support\n",
      "\n",
      "     walking       0.68      0.12      0.20      1408\n",
      "    standing       0.73      0.23      0.35      1406\n",
      "     jogging       0.35      1.00      0.52      1406\n",
      "     sitting       0.95      0.44      0.60      1406\n",
      "      biking       0.55      0.77      0.64      1407\n",
      "    upstairs       0.38      0.26      0.31      1406\n",
      "  downstairs       0.58      0.64      0.61      1405\n",
      "\n",
      "    accuracy                           0.49      9844\n",
      "   macro avg       0.60      0.49      0.46      9844\n",
      "weighted avg       0.60      0.49      0.46      9844\n",
      "\n"
     ]
    },
    {
     "data": {
      "image/png": "[encoded data removed]",
      "text/plain": [
       "<Figure size 640x480 with 2 Axes>"
      ]
     },
     "metadata": {},
     "output_type": "display_data"
    }
   ],
   "source": [
    "interpreter = tf.lite.Interpreter(model_path=\"/kaggle/working/shoaib_har_lstm_quant.tflite\")\n",
    "interpreter.allocate_tensors()\n",
    "\n",
    "input_details = interpreter.get_input_details()\n",
    "output_details = interpreter.get_output_details()\n",
    "\n",
    "scale, zero_point = input_details[0]['quantization']\n",
    "\n",
    "y_tflite_pred = []\n",
    "\n",
    "for i in tqdm(range(len(X_test))):\n",
    "    # Quantize one sample\n",
    "    x = np.round(X_test[i:i+1] / scale + zero_point).astype(np.int8)\n",
    "    \n",
    "    interpreter.set_tensor(input_details[0]['index'], x)\n",
    "    interpreter.invoke()\n",
    "    \n",
    "    # Dequantize output (optional)\n",
    "    yq = interpreter.get_tensor(output_details[0]['index'])\n",
    "    y_tflite_pred.append(np.argmax(yq, axis=1)[0])\n",
    "\n",
    "y_tflite_pred = np.array(y_tflite_pred)\n",
    "\n",
    "print(classification_report(y_true, y_tflite_pred, target_names=labels))\n",
    "\n",
    "cm = confusion_matrix(y_true, y_tflite_pred)\n",
    "cm = cm / cm.sum(axis=1)[:, None]\n",
    "sns.heatmap(cm, annot=True, xticklabels=labels, yticklabels=labels, fmt=\".2f\", cmap=\"Blues\")\n",
    "plt.xlabel('Predicted')\n",
    "plt.ylabel('True')\n",
    "plt.title('TFLite Model Confusion Matrix')\n",
    "plt.show()"
   ]
  }
 ],
 "metadata": {
  "kaggle": {
   "accelerator": "none",
   "dataSources": [
    {
     "datasetId": 8504686,
     "sourceId": 13401539,
     "sourceType": "datasetVersion"
    }
   ],
   "dockerImageVersionId": 31153,
   "isGpuEnabled": false,
   "isInternetEnabled": false,
   "language": "python",
   "sourceType": "notebook"
  },
  "kernelspec": {
   "display_name": "Python 3",
   "language": "python",
   "name": "python3"
  },
  "language_info": {
   "codemirror_mode": {
    "name": "ipython",
    "version": 3
   },
   "file_extension": ".py",
   "mimetype": "text/x-python",
   "name": "python",
   "nbconvert_exporter": "python",
   "pygments_lexer": "ipython3",
   "version": "3.11.13"
  },
  "papermill": {
   "default_parameters": {},
   "duration": 977.524856,
   "end_time": "2025-10-25T17:41:45.798595",
   "environment_variables": {},
   "exception": null,
   "input_path": "__notebook__.ipynb",
   "output_path": "__notebook__.ipynb",
   "parameters": {},
   "start_time": "2025-10-25T17:25:28.273739",
   "version": "2.6.0"
  },
  "widgets": {
   "application/vnd.jupyter.widget-state+json": {
    "state": {
     "05917315d2a8484da33c35a3e276493b": {
      "model_module": "@jupyter-widgets/controls",
      "model_module_version": "2.0.0",
      "model_name": "HTMLModel",
      "state": {
       "_dom_classes": [],
       "_model_module": "@jupyter-widgets/controls",
       "_model_module_version": "2.0.0",
       "_model_name": "HTMLModel",
       "_view_count": null,
       "_view_module": "@jupyter-widgets/controls",
       "_view_module_version": "2.0.0",
       "_view_name": "HTMLView",
       "description": "",
       "description_allow_html": false,
       "layout": "IPY_MODEL_5d1a55d2c3644e2ca1ea17357ba36d14",
       "placeholder": "​",
       "style": "IPY_MODEL_ea7cf32e4d964dce80356fb047a6d772",
       "tabbable": null,
       "tooltip": null,
       "value": " 50/50 [00:09&lt;00:00,  4.67it/s]"
      }
     },
     "22fb63ea8a0e452fbf10076a1a451865": {
      "model_module": "@jupyter-widgets/controls",
      "model_module_version": "2.0.0",
      "model_name": "FloatProgressModel",
      "state": {
       "_dom_classes": [],
       "_model_module": "@jupyter-widgets/controls",
       "_model_module_version": "2.0.0",
       "_model_name": "FloatProgressModel",
       "_view_count": null,
       "_view_module": "@jupyter-widgets/controls",
       "_view_module_version": "2.0.0",
       "_view_name": "ProgressView",
       "bar_style": "success",
       "description": "",
       "description_allow_html": false,
       "layout": "IPY_MODEL_3b2676dff05a437581a1c2e15b06d402",
       "max": 50.0,
       "min": 0.0,
       "orientation": "horizontal",
       "style": "IPY_MODEL_d169ac0a0be0446e994468cfe631dd45",
       "tabbable": null,
       "tooltip": null,
       "value": 50.0
      }
     },
     "26e4710a0ab8409498fb1f4ba114056c": {
      "model_module": "@jupyter-widgets/controls",
      "model_module_version": "2.0.0",
      "model_name": "HTMLStyleModel",
      "state": {
       "_model_module": "@jupyter-widgets/controls",
       "_model_module_version": "2.0.0",
       "_model_name": "HTMLStyleModel",
       "_view_count": null,
       "_view_module": "@jupyter-widgets/base",
       "_view_module_version": "2.0.0",
       "_view_name": "StyleView",
       "background": null,
       "description_width": "",
       "font_size": null,
       "text_color": null
      }
     },
     "284d5aba50d6498b8c84fe3a992f4b9e": {
      "model_module": "@jupyter-widgets/controls",
      "model_module_version": "2.0.0",
      "model_name": "HTMLModel",
      "state": {
       "_dom_classes": [],
       "_model_module": "@jupyter-widgets/controls",
       "_model_module_version": "2.0.0",
       "_model_name": "HTMLModel",
       "_view_count": null,
       "_view_module": "@jupyter-widgets/controls",
       "_view_module_version": "2.0.0",
       "_view_name": "HTMLView",
       "description": "",
       "description_allow_html": false,
       "layout": "IPY_MODEL_dd9b8c9d328641bb8b43f883523dfe9b",
       "placeholder": "​",
       "style": "IPY_MODEL_9e66ff79e9514710a9a7761ddd703f20",
       "tabbable": null,
       "tooltip": null,
       "value": "100%"
      }
     },
     "28b5d87c6d5444999c1f7c8257ebc700": {
      "model_module": "@jupyter-widgets/controls",
      "model_module_version": "2.0.0",
      "model_name": "HBoxModel",
      "state": {
       "_dom_classes": [],
       "_model_module": "@jupyter-widgets/controls",
       "_model_module_version": "2.0.0",
       "_model_name": "HBoxModel",
       "_view_count": null,
       "_view_module": "@jupyter-widgets/controls",
       "_view_module_version": "2.0.0",
       "_view_name": "HBoxView",
       "box_style": "",
       "children": [
        "IPY_MODEL_6f973e7233194012aed5a9cd95ab0237",
        "IPY_MODEL_22fb63ea8a0e452fbf10076a1a451865",
        "IPY_MODEL_05917315d2a8484da33c35a3e276493b"
       ],
       "layout": "IPY_MODEL_d9ddc72fb4524055b16d2fbd54fe9e7d",
       "tabbable": null,
       "tooltip": null
      }
     },
     "324c5096da734eb9baac008dbd874990": {
      "model_module": "@jupyter-widgets/controls",
      "model_module_version": "2.0.0",
      "model_name": "ProgressStyleModel",
      "state": {
       "_model_module": "@jupyter-widgets/controls",
       "_model_module_version": "2.0.0",
       "_model_name": "ProgressStyleModel",
       "_view_count": null,
       "_view_module": "@jupyter-widgets/base",
       "_view_module_version": "2.0.0",
       "_view_name": "StyleView",
       "bar_color": null,
       "description_width": ""
      }
     },
     "3b2676dff05a437581a1c2e15b06d402": {
      "model_module": "@jupyter-widgets/base",
      "model_module_version": "2.0.0",
      "model_name": "LayoutModel",
      "state": {
       "_model_module": "@jupyter-widgets/base",
       "_model_module_version": "2.0.0",
       "_model_name": "LayoutModel",
       "_view_count": null,
       "_view_module": "@jupyter-widgets/base",
       "_view_module_version": "2.0.0",
       "_view_name": "LayoutView",
       "align_content": null,
       "align_items": null,
       "align_self": null,
       "border_bottom": null,
       "border_left": null,
       "border_right": null,
       "border_top": null,
       "bottom": null,
       "display": null,
       "flex": null,
       "flex_flow": null,
       "grid_area": null,
       "grid_auto_columns": null,
       "grid_auto_flow": null,
       "grid_auto_rows": null,
       "grid_column": null,
       "grid_gap": null,
       "grid_row": null,
       "grid_template_areas": null,
       "grid_template_columns": null,
       "grid_template_rows": null,
       "height": null,
       "justify_content": null,
       "justify_items": null,
       "left": null,
       "margin": null,
       "max_height": null,
       "max_width": null,
       "min_height": null,
       "min_width": null,
       "object_fit": null,
       "object_position": null,
       "order": null,
       "overflow": null,
       "padding": null,
       "right": null,
       "top": null,
       "visibility": null,
       "width": null
      }
     },
     "3f65113b9c4c4ff38c4db1dd114a8ddc": {
      "model_module": "@jupyter-widgets/controls",
      "model_module_version": "2.0.0",
      "model_name": "HBoxModel",
      "state": {
       "_dom_classes": [],
       "_model_module": "@jupyter-widgets/controls",
       "_model_module_version": "2.0.0",
       "_model_name": "HBoxModel",
       "_view_count": null,
       "_view_module": "@jupyter-widgets/controls",
       "_view_module_version": "2.0.0",
       "_view_name": "HBoxView",
       "box_style": "",
       "children": [
        "IPY_MODEL_284d5aba50d6498b8c84fe3a992f4b9e",
        "IPY_MODEL_785b0cb9711f4d2db1f756617973158a",
        "IPY_MODEL_c9a063727e2b49d296327a982ddbf67a"
       ],
       "layout": "IPY_MODEL_9ff7709d314c4e68bfbd44b6c710f92c",
       "tabbable": null,
       "tooltip": null
      }
     },
     "5d1a55d2c3644e2ca1ea17357ba36d14": {
      "model_module": "@jupyter-widgets/base",
      "model_module_version": "2.0.0",
      "model_name": "LayoutModel",
      "state": {
       "_model_module": "@jupyter-widgets/base",
       "_model_module_version": "2.0.0",
       "_model_name": "LayoutModel",
       "_view_count": null,
       "_view_module": "@jupyter-widgets/base",
       "_view_module_version": "2.0.0",
       "_view_name": "LayoutView",
       "align_content": null,
       "align_items": null,
       "align_self": null,
       "border_bottom": null,
       "border_left": null,
       "border_right": null,
       "border_top": null,
       "bottom": null,
       "display": null,
       "flex": null,
       "flex_flow": null,
       "grid_area": null,
       "grid_auto_columns": null,
       "grid_auto_flow": null,
       "grid_auto_rows": null,
       "grid_column": null,
       "grid_gap": null,
       "grid_row": null,
       "grid_template_areas": null,
       "grid_template_columns": null,
       "grid_template_rows": null,
       "height": null,
       "justify_content": null,
       "justify_items": null,
       "left": null,
       "margin": null,
       "max_height": null,
       "max_width": null,
       "min_height": null,
       "min_width": null,
       "object_fit": null,
       "object_position": null,
       "order": null,
       "overflow": null,
       "padding": null,
       "right": null,
       "top": null,
       "visibility": null,
       "width": null
      }
     },
     "6f973e7233194012aed5a9cd95ab0237": {
      "model_module": "@jupyter-widgets/controls",
      "model_module_version": "2.0.0",
      "model_name": "HTMLModel",
      "state": {
       "_dom_classes": [],
       "_model_module": "@jupyter-widgets/controls",
       "_model_module_version": "2.0.0",
       "_model_name": "HTMLModel",
       "_view_count": null,
       "_view_module": "@jupyter-widgets/controls",
       "_view_module_version": "2.0.0",
       "_view_name": "HTMLView",
       "description": "",
       "description_allow_html": false,
       "layout": "IPY_MODEL_bc195c91fbce41c08c71504153086ada",
       "placeholder": "​",
       "style": "IPY_MODEL_9efde268704a43c28e82896bc657e895",
       "tabbable": null,
       "tooltip": null,
       "value": "100%"
      }
     },
     "785b0cb9711f4d2db1f756617973158a": {
      "model_module": "@jupyter-widgets/controls",
      "model_module_version": "2.0.0",
      "model_name": "FloatProgressModel",
      "state": {
       "_dom_classes": [],
       "_model_module": "@jupyter-widgets/controls",
       "_model_module_version": "2.0.0",
       "_model_name": "FloatProgressModel",
       "_view_count": null,
       "_view_module": "@jupyter-widgets/controls",
       "_view_module_version": "2.0.0",
       "_view_name": "ProgressView",
       "bar_style": "success",
       "description": "",
       "description_allow_html": false,
       "layout": "IPY_MODEL_f3ed6bfcecd94665ae634ed0b84f2b1a",
       "max": 9844.0,
       "min": 0.0,
       "orientation": "horizontal",
       "style": "IPY_MODEL_324c5096da734eb9baac008dbd874990",
       "tabbable": null,
       "tooltip": null,
       "value": 9844.0
      }
     },
     "9e66ff79e9514710a9a7761ddd703f20": {
      "model_module": "@jupyter-widgets/controls",
      "model_module_version": "2.0.0",
      "model_name": "HTMLStyleModel",
      "state": {
       "_model_module": "@jupyter-widgets/controls",
       "_model_module_version": "2.0.0",
       "_model_name": "HTMLStyleModel",
       "_view_count": null,
       "_view_module": "@jupyter-widgets/base",
       "_view_module_version": "2.0.0",
       "_view_name": "StyleView",
       "background": null,
       "description_width": "",
       "font_size": null,
       "text_color": null
      }
     },
     "9efde268704a43c28e82896bc657e895": {
      "model_module": "@jupyter-widgets/controls",
      "model_module_version": "2.0.0",
      "model_name": "HTMLStyleModel",
      "state": {
       "_model_module": "@jupyter-widgets/controls",
       "_model_module_version": "2.0.0",
       "_model_name": "HTMLStyleModel",
       "_view_count": null,
       "_view_module": "@jupyter-widgets/base",
       "_view_module_version": "2.0.0",
       "_view_name": "StyleView",
       "background": null,
       "description_width": "",
       "font_size": null,
       "text_color": null
      }
     },
     "9ff7709d314c4e68bfbd44b6c710f92c": {
      "model_module": "@jupyter-widgets/base",
      "model_module_version": "2.0.0",
      "model_name": "LayoutModel",
      "state": {
       "_model_module": "@jupyter-widgets/base",
       "_model_module_version": "2.0.0",
       "_model_name": "LayoutModel",
       "_view_count": null,
       "_view_module": "@jupyter-widgets/base",
       "_view_module_version": "2.0.0",
       "_view_name": "LayoutView",
       "align_content": null,
       "align_items": null,
       "align_self": null,
       "border_bottom": null,
       "border_left": null,
       "border_right": null,
       "border_top": null,
       "bottom": null,
       "display": null,
       "flex": null,
       "flex_flow": null,
       "grid_area": null,
       "grid_auto_columns": null,
       "grid_auto_flow": null,
       "grid_auto_rows": null,
       "grid_column": null,
       "grid_gap": null,
       "grid_row": null,
       "grid_template_areas": null,
       "grid_template_columns": null,
       "grid_template_rows": null,
       "height": null,
       "justify_content": null,
       "justify_items": null,
       "left": null,
       "margin": null,
       "max_height": null,
       "max_width": null,
       "min_height": null,
       "min_width": null,
       "object_fit": null,
       "object_position": null,
       "order": null,
       "overflow": null,
       "padding": null,
       "right": null,
       "top": null,
       "visibility": null,
       "width": null
      }
     },
     "bc195c91fbce41c08c71504153086ada": {
      "model_module": "@jupyter-widgets/base",
      "model_module_version": "2.0.0",
      "model_name": "LayoutModel",
      "state": {
       "_model_module": "@jupyter-widgets/base",
       "_model_module_version": "2.0.0",
       "_model_name": "LayoutModel",
       "_view_count": null,
       "_view_module": "@jupyter-widgets/base",
       "_view_module_version": "2.0.0",
       "_view_name": "LayoutView",
       "align_content": null,
       "align_items": null,
       "align_self": null,
       "border_bottom": null,
       "border_left": null,
       "border_right": null,
       "border_top": null,
       "bottom": null,
       "display": null,
       "flex": null,
       "flex_flow": null,
       "grid_area": null,
       "grid_auto_columns": null,
       "grid_auto_flow": null,
       "grid_auto_rows": null,
       "grid_column": null,
       "grid_gap": null,
       "grid_row": null,
       "grid_template_areas": null,
       "grid_template_columns": null,
       "grid_template_rows": null,
       "height": null,
       "justify_content": null,
       "justify_items": null,
       "left": null,
       "margin": null,
       "max_height": null,
       "max_width": null,
       "min_height": null,
       "min_width": null,
       "object_fit": null,
       "object_position": null,
       "order": null,
       "overflow": null,
       "padding": null,
       "right": null,
       "top": null,
       "visibility": null,
       "width": null
      }
     },
     "c5752cb971604035bf51546f598c1ccf": {
      "model_module": "@jupyter-widgets/base",
      "model_module_version": "2.0.0",
      "model_name": "LayoutModel",
      "state": {
       "_model_module": "@jupyter-widgets/base",
       "_model_module_version": "2.0.0",
       "_model_name": "LayoutModel",
       "_view_count": null,
       "_view_module": "@jupyter-widgets/base",
       "_view_module_version": "2.0.0",
       "_view_name": "LayoutView",
       "align_content": null,
       "align_items": null,
       "align_self": null,
       "border_bottom": null,
       "border_left": null,
       "border_right": null,
       "border_top": null,
       "bottom": null,
       "display": null,
       "flex": null,
       "flex_flow": null,
       "grid_area": null,
       "grid_auto_columns": null,
       "grid_auto_flow": null,
       "grid_auto_rows": null,
       "grid_column": null,
       "grid_gap": null,
       "grid_row": null,
       "grid_template_areas": null,
       "grid_template_columns": null,
       "grid_template_rows": null,
       "height": null,
       "justify_content": null,
       "justify_items": null,
       "left": null,
       "margin": null,
       "max_height": null,
       "max_width": null,
       "min_height": null,
       "min_width": null,
       "object_fit": null,
       "object_position": null,
       "order": null,
       "overflow": null,
       "padding": null,
       "right": null,
       "top": null,
       "visibility": null,
       "width": null
      }
     },
     "c9a063727e2b49d296327a982ddbf67a": {
      "model_module": "@jupyter-widgets/controls",
      "model_module_version": "2.0.0",
      "model_name": "HTMLModel",
      "state": {
       "_dom_classes": [],
       "_model_module": "@jupyter-widgets/controls",
       "_model_module_version": "2.0.0",
       "_model_name": "HTMLModel",
       "_view_count": null,
       "_view_module": "@jupyter-widgets/controls",
       "_view_module_version": "2.0.0",
       "_view_name": "HTMLView",
       "description": "",
       "description_allow_html": false,
       "layout": "IPY_MODEL_c5752cb971604035bf51546f598c1ccf",
       "placeholder": "​",
       "style": "IPY_MODEL_26e4710a0ab8409498fb1f4ba114056c",
       "tabbable": null,
       "tooltip": null,
       "value": " 9844/9844 [00:08&lt;00:00, 1120.42it/s]"
      }
     },
     "d169ac0a0be0446e994468cfe631dd45": {
      "model_module": "@jupyter-widgets/controls",
      "model_module_version": "2.0.0",
      "model_name": "ProgressStyleModel",
      "state": {
       "_model_module": "@jupyter-widgets/controls",
       "_model_module_version": "2.0.0",
       "_model_name": "ProgressStyleModel",
       "_view_count": null,
       "_view_module": "@jupyter-widgets/base",
       "_view_module_version": "2.0.0",
       "_view_name": "StyleView",
       "bar_color": null,
       "description_width": ""
      }
     },
     "d9ddc72fb4524055b16d2fbd54fe9e7d": {
      "model_module": "@jupyter-widgets/base",
      "model_module_version": "2.0.0",
      "model_name": "LayoutModel",
      "state": {
       "_model_module": "@jupyter-widgets/base",
       "_model_module_version": "2.0.0",
       "_model_name": "LayoutModel",
       "_view_count": null,
       "_view_module": "@jupyter-widgets/base",
       "_view_module_version": "2.0.0",
       "_view_name": "LayoutView",
       "align_content": null,
       "align_items": null,
       "align_self": null,
       "border_bottom": null,
       "border_left": null,
       "border_right": null,
       "border_top": null,
       "bottom": null,
       "display": null,
       "flex": null,
       "flex_flow": null,
       "grid_area": null,
       "grid_auto_columns": null,
       "grid_auto_flow": null,
       "grid_auto_rows": null,
       "grid_column": null,
       "grid_gap": null,
       "grid_row": null,
       "grid_template_areas": null,
       "grid_template_columns": null,
       "grid_template_rows": null,
       "height": null,
       "justify_content": null,
       "justify_items": null,
       "left": null,
       "margin": null,
       "max_height": null,
       "max_width": null,
       "min_height": null,
       "min_width": null,
       "object_fit": null,
       "object_position": null,
       "order": null,
       "overflow": null,
       "padding": null,
       "right": null,
       "top": null,
       "visibility": null,
       "width": null
      }
     },
     "dd9b8c9d328641bb8b43f883523dfe9b": {
      "model_module": "@jupyter-widgets/base",
      "model_module_version": "2.0.0",
      "model_name": "LayoutModel",
      "state": {
       "_model_module": "@jupyter-widgets/base",
       "_model_module_version": "2.0.0",
       "_model_name": "LayoutModel",
       "_view_count": null,
       "_view_module": "@jupyter-widgets/base",
       "_view_module_version": "2.0.0",
       "_view_name": "LayoutView",
       "align_content": null,
       "align_items": null,
       "align_self": null,
       "border_bottom": null,
       "border_left": null,
       "border_right": null,
       "border_top": null,
       "bottom": null,
       "display": null,
       "flex": null,
       "flex_flow": null,
       "grid_area": null,
       "grid_auto_columns": null,
       "grid_auto_flow": null,
       "grid_auto_rows": null,
       "grid_column": null,
       "grid_gap": null,
       "grid_row": null,
       "grid_template_areas": null,
       "grid_template_columns": null,
       "grid_template_rows": null,
       "height": null,
       "justify_content": null,
       "justify_items": null,
       "left": null,
       "margin": null,
       "max_height": null,
       "max_width": null,
       "min_height": null,
       "min_width": null,
       "object_fit": null,
       "object_position": null,
       "order": null,
       "overflow": null,
       "padding": null,
       "right": null,
       "top": null,
       "visibility": null,
       "width": null
      }
     },
     "ea7cf32e4d964dce80356fb047a6d772": {
      "model_module": "@jupyter-widgets/controls",
      "model_module_version": "2.0.0",
      "model_name": "HTMLStyleModel",
      "state": {
       "_model_module": "@jupyter-widgets/controls",
       "_model_module_version": "2.0.0",
       "_model_name": "HTMLStyleModel",
       "_view_count": null,
       "_view_module": "@jupyter-widgets/base",
       "_view_module_version": "2.0.0",
       "_view_name": "StyleView",
       "background": null,
       "description_width": "",
       "font_size": null,
       "text_color": null
      }
     },
     "f3ed6bfcecd94665ae634ed0b84f2b1a": {
      "model_module": "@jupyter-widgets/base",
      "model_module_version": "2.0.0",
      "model_name": "LayoutModel",
      "state": {
       "_model_module": "@jupyter-widgets/base",
       "_model_module_version": "2.0.0",
       "_model_name": "LayoutModel",
       "_view_count": null,
       "_view_module": "@jupyter-widgets/base",
       "_view_module_version": "2.0.0",
       "_view_name": "LayoutView",
       "align_content": null,
       "align_items": null,
       "align_self": null,
       "border_bottom": null,
       "border_left": null,
       "border_right": null,
       "border_top": null,
       "bottom": null,
       "display": null,
       "flex": null,
       "flex_flow": null,
       "grid_area": null,
       "grid_auto_columns": null,
       "grid_auto_flow": null,
       "grid_auto_rows": null,
       "grid_column": null,
       "grid_gap": null,
       "grid_row": null,
       "grid_template_areas": null,
       "grid_template_columns": null,
       "grid_template_rows": null,
       "height": null,
       "justify_content": null,
       "justify_items": null,
       "left": null,
       "margin": null,
       "max_height": null,
       "max_width": null,
       "min_height": null,
       "min_width": null,
       "object_fit": null,
       "object_position": null,
       "order": null,
       "overflow": null,
       "padding": null,
       "right": null,
       "top": null,
       "visibility": null,
       "width": null
      }
     }
    },
    "version_major": 2,
    "version_minor": 0
   }
  }
 },
 "nbformat": 4,
 "nbformat_minor": 5
}
